{
 "cells": [
  {
   "cell_type": "code",
   "execution_count": 1,
   "id": "5159b8b5",
   "metadata": {},
   "outputs": [],
   "source": [
    "import numpy as np\n",
    "import scipy as sp\n",
    "import random as rand\n",
    "import matplotlib.pyplot as plt\n",
    "\n",
    "import networkx as nx\n",
    "from networkx.drawing.nx_agraph import graphviz_layout#for drawing trees\n",
    "import sys\n",
    "import collections\n",
    "import math"
   ]
  },
  {
   "cell_type": "markdown",
   "id": "bcc305ed",
   "metadata": {},
   "source": [
    "### widen cells:"
   ]
  },
  {
   "cell_type": "code",
   "execution_count": 23,
   "id": "60b4f59d",
   "metadata": {},
   "outputs": [
    {
     "data": {
      "text/html": [
       "<style>.container { width:90% !important; }</style>"
      ],
      "text/plain": [
       "<IPython.core.display.HTML object>"
      ]
     },
     "metadata": {},
     "output_type": "display_data"
    }
   ],
   "source": [
    "#standard width is ~60%\n",
    "from IPython.core.display import display, HTML\n",
    "display(HTML(\"<style>.container { width:90% !important; }</style>\"))"
   ]
  },
  {
   "cell_type": "markdown",
   "id": "860deeba",
   "metadata": {},
   "source": [
    "# First, we set up a binary tree data structure"
   ]
  },
  {
   "cell_type": "markdown",
   "id": "73a120d5",
   "metadata": {},
   "source": [
    "### There are some simplifications since we always have a balanced tree"
   ]
  },
  {
   "cell_type": "code",
   "execution_count": 12,
   "id": "5557cf8a",
   "metadata": {},
   "outputs": [],
   "source": [
    "class Node(object):\n",
    "    def __init__(self, val, p=None):\n",
    "        self.left = None\n",
    "        self.right = None\n",
    "        self.key = val\n",
    "        if(p != None):\n",
    "            self.price = p\n",
    "    \n",
    "    @property\n",
    "    def children(self):\n",
    "        return (self.left,self.right)\n",
    "    \n",
    "    def assignData(self,data):\n",
    "        self.price,self.future = data\n",
    "\n",
    "def createRoot(price):\n",
    "    return Node(1,price)\n",
    "    \n",
    "        \n",
    "def breadthFirstCreate(root,T):\n",
    "    node_q = collections.deque([root])\n",
    "    prev_key = 0\n",
    "    while ( node_q ):\n",
    "        node = node_q.popleft()\n",
    "        if((node.key-2**T) < 0):\n",
    "            node.left = Node(prev_key+node.key+1)\n",
    "            node_q.append(node.left)\n",
    "            \n",
    "            node.right = Node(prev_key+node.key+2)\n",
    "            node_q.append(node.right)\n",
    "        prev_key = node.key\n",
    "        \n",
    "def createWithPrices(root,T,u,d):\n",
    "    node_q = collections.deque([root])\n",
    "    prev_key = 0\n",
    "    while ( node_q ):\n",
    "        node = node_q.popleft()\n",
    "        price = node.price\n",
    "        if((node.key-2**T) < 0):\n",
    "            thisKey = prev_key+node.key+1\n",
    "            node.left = Node(thisKey, price*u)\n",
    "            node_q.append(node.left)\n",
    "            \n",
    "            thisKey = prev_key+node.key+2\n",
    "            node.right = Node(thisKey, price*d)\n",
    "            node_q.append(node.right)\n",
    "        prev_key = node.key\n",
    "    \n",
    "def getNodes(root):\n",
    "    if root.left is not None:\n",
    "        yield from getNodes(root.left)\n",
    "\n",
    "    yield [root.key,root.price,root.future]\n",
    "\n",
    "    if root.right is not None:\n",
    "        yield from getNodes(root.right)\n",
    "        \n",
    "def BFS_DepthList(root):\n",
    "    node_q = collections.deque([root])\n",
    "    stack = []\n",
    "    tempList = []\n",
    "    current_t = math.floor(math.log(root.key,2))\n",
    "    prev_t = current_t\n",
    "    while node_q:\n",
    "        node = node_q.popleft()\n",
    "        current_t = math.floor(math.log(node.key,2))\n",
    "        if (current_t > prev_t):\n",
    "            stack.append(tempList[:])\n",
    "            tempList.clear()\n",
    "            prev_t = current_t\n",
    "        tempList.append(node)\n",
    "        if(node.left is not None):\n",
    "            node_q.append(node.left)\n",
    "        if(node.right is not None):\n",
    "            node_q.append(node.right)\n",
    "    stack.append(tempList)\n",
    "    return stack\n",
    " \n",
    "        \n",
    "def getT(root):\n",
    "    counter = 0\n",
    "    while(root.left is not None):\n",
    "        counter += 1\n",
    "        root = root.left\n",
    "    return counter\n",
    "\n",
    "def getLargestPrice(root):\n",
    "    while(root.left is not None):\n",
    "        root = root.left\n",
    "    return root.price    \n",
    "\n",
    "def getLowestPrice(root):\n",
    "    while(root.right is not None):\n",
    "        root = root.right\n",
    "    return root.price"
   ]
  },
  {
   "cell_type": "markdown",
   "id": "fc692a25",
   "metadata": {},
   "source": [
    "# Setting Future Prices"
   ]
  },
  {
   "cell_type": "code",
   "execution_count": 134,
   "id": "a2f7f93d",
   "metadata": {},
   "outputs": [],
   "source": [
    "def setFutures(root, market, option, risk_free_rate, strike_price):\n",
    "    r = risk_free_rate\n",
    "    if (market == \"American\"):\n",
    "        if (option == \"call\"):\n",
    "            setAmericanCall(root,r,strike_price)\n",
    "            return\n",
    "        if (option == \"put\"):\n",
    "            setAmericanPut(root,r,strike_price)\n",
    "            return\n",
    "    if (market == \"European\"):\n",
    "        if (option == \"call\"):\n",
    "            setEuropeanCall(root,r,strike_price)\n",
    "            return\n",
    "        if (option == \"put\"):\n",
    "            setEuropeanPut(root,r,strike_price)\n",
    "            return\n",
    "    # if it makes it here:\n",
    "    print(\"Input error (Market, Option, Tree Root, Risk Free Rate (per time step), Strike Price)\")\n",
    "    print(\"Market can be: \\\"American\\\" or \\\"European\\\" \")\n",
    "    print(\"Option can be: \\\"call\\\" or \\\"put\\\" \")\n",
    "    \n",
    "        \n",
    "def setEuropeanCall(root,r,strike_price):\n",
    "    depthList = BFS_DepthList(root)[::-1]\n",
    "    leaves = depthList[0]\n",
    "    trunk = depthList[1:-1]\n",
    "    root = depthList[-1][0]\n",
    "        \n",
    "    for leaf in leaves:\n",
    "        leaf.future = max(0,leaf.price - strike_price)\n",
    "    for branches in trunk:\n",
    "        for branch in branches:\n",
    "            u = branch.left.price/branch.price\n",
    "            f_u = branch.left.future\n",
    "            d = branch.right.price/branch.price\n",
    "            f_d = branch.right.future\n",
    "            p = (math.exp(r) - d)/(u - d)\n",
    "            \n",
    "            branch.future = math.exp(-r)*( p*f_u + (1-p)*f_d )\n",
    "    \n",
    "    u = root.left.price/root.price\n",
    "    f_u = root.left.future\n",
    "    d = root.right.price/root.price\n",
    "    f_d = root.right.future\n",
    "    p = (math.exp(r) - d)/(u - d)\n",
    "\n",
    "    root.future = math.exp(-r)*( p*f_u + (1-p)*f_d )\n",
    "    \n",
    "def setEuropeanPut(root,r,strike_price):\n",
    "    depthList = BFS_DepthList(root)[::-1]\n",
    "    leaves = depthList[0]\n",
    "    trunk = depthList[1:-1]\n",
    "    root = depthList[-1][0]\n",
    "        \n",
    "    for leaf in leaves:\n",
    "        leaf.future = max(0,strike_price - leaf.price)\n",
    "    for branches in trunk:\n",
    "        for branch in branches:\n",
    "            u = branch.left.price/branch.price\n",
    "            f_u = branch.left.future\n",
    "            d = branch.right.price/branch.price\n",
    "            f_d = branch.right.future\n",
    "            p = (math.exp(r) - d)/(u - d)\n",
    "            \n",
    "            branch.future = math.exp(-r)*( p*f_u + (1-p)*f_d )\n",
    "    \n",
    "    u = root.left.price/root.price\n",
    "    f_u = root.left.future\n",
    "    d = root.right.price/root.price\n",
    "    f_d = root.right.future\n",
    "    p = (math.exp(r) - d)/(u - d)\n",
    "\n",
    "    root.future = math.exp(-r)*( p*f_u + (1-p)*f_d )\n",
    "    \n",
    "\n",
    "def setAmericanPut(root,r,strike_price):\n",
    "    depthList = BFS_DepthList(root)[::-1]\n",
    "    leaves = depthList[0]\n",
    "    trunk = depthList[1:-1]\n",
    "    root = depthList[-1][0]\n",
    "        \n",
    "    for leaf in leaves:\n",
    "        leaf.future = max(0,strike_price - leaf.price)\n",
    "    for branches in trunk:\n",
    "        for branch in branches:\n",
    "            u = branch.left.price/branch.price\n",
    "            f_u = branch.left.future\n",
    "            d = branch.right.price/branch.price\n",
    "            f_d = branch.right.future\n",
    "            p = (math.exp(r) - d)/(u - d)\n",
    "            \n",
    "            euro_fut = math.exp(-r)*( p*f_u + (1-p)*f_d )\n",
    "            early_ex_fut = strike_price - euro_fut\n",
    "            \n",
    "            branch.future = np.where(early_ex_fut > euro_fut, early_ex_fut, euro_fut)\n",
    "    \n",
    "    u = root.left.price/root.price\n",
    "    f_u = root.left.future\n",
    "    d = root.right.price/root.price\n",
    "    f_d = root.right.future\n",
    "    p = (math.exp(r) - d)/(u - d)\n",
    "\n",
    "    root.future = math.exp(-r)*( p*f_u + (1-p)*f_d )\n",
    "    \n",
    "def setAmericanCall(root,r,strike_price):\n",
    "    depthList = BFS_DepthList(root)[::-1]\n",
    "    leaves = depthList[0]\n",
    "    trunk = depthList[1:-1]\n",
    "    root = depthList[-1][0]\n",
    "        \n",
    "    for leaf in leaves:\n",
    "        leaf.future = max(0,leaf.price - strike_price)\n",
    "    for branches in trunk:\n",
    "        for branch in branches:\n",
    "            u = branch.left.price/branch.price\n",
    "            f_u = branch.left.future\n",
    "            d = branch.right.price/branch.price\n",
    "            f_d = branch.right.future\n",
    "            p = (math.exp(r) - d)/(u - d)\n",
    "            \n",
    "            euro_fut = math.exp(-r)*( p*f_u + (1-p)*f_d )\n",
    "            early_ex_fut = euro_fut - strike_price\n",
    "            \n",
    "            branch.future = np.where(early_ex_fut > euro_fut, early_ex_fut, euro_fut)\n",
    "    \n",
    "    u = root.left.price/root.price\n",
    "    f_u = root.left.future\n",
    "    d = root.right.price/root.price\n",
    "    f_d = root.right.future\n",
    "    p = (math.exp(r) - d)/(u - d)\n",
    "\n",
    "    root.future = math.exp(-r)*( p*f_u + (1-p)*f_d )"
   ]
  },
  {
   "cell_type": "markdown",
   "id": "7fa0ca87",
   "metadata": {},
   "source": [
    "# European Call Example"
   ]
  },
  {
   "cell_type": "markdown",
   "id": "27ecc8df",
   "metadata": {},
   "source": [
    "### Convergence of future price at initial time"
   ]
  },
  {
   "cell_type": "code",
   "execution_count": 127,
   "id": "826b5aab",
   "metadata": {},
   "outputs": [],
   "source": [
    "### Initial tree parameters                                                      ###\n",
    "### Note: the risk free rate, \"r_eff\", is units of the entire alloted time \"T\". ###\n",
    "### This means that \"dt\" is always equal to \"1/T\", but \"r_eff\" should asorb     ###\n",
    "### the proper factors to account for this. I.e. if \"T\" is 2 years and \"r\" is    ###\n",
    "### given in per year, it requires theassociated factor of 2 here.               ###\n",
    "                            ###\n",
    "    \n",
    "price = 100\n",
    "steps = 21\n",
    "strike_price = price + 2\n",
    "sigma = 0.3\n",
    "r_eff = 0.001\n",
    "\n",
    "root_euro_call = createRoot(price)\n",
    "prices = []\n",
    "for t in range(1,steps+1):  \n",
    "    r = r_eff/t\n",
    "    u = np.exp(sigma*np.sqrt(1/t))\n",
    "    d = np.exp(-sigma*np.sqrt(1/t))\n",
    "    createWithPrices(root_euro_call,t,u,d)\n",
    "    setFutures(root_euro_call,\"European\",\"call\",r,strike_price)\n",
    "    prices.append(root_euro_call.future)\n",
    "    \n"
   ]
  },
  {
   "cell_type": "code",
   "execution_count": 128,
   "id": "057b1a20",
   "metadata": {},
   "outputs": [
    {
     "data": {
      "image/png": "[encoded data removed]",
      "text/plain": [
       "<Figure size 720x576 with 2 Axes>"
      ]
     },
     "metadata": {
      "needs_background": "light"
     },
     "output_type": "display_data"
    }
   ],
   "source": [
    "price_convergance = np.array(prices)\n",
    "rel_change = np.abs(np.gradient(price_convergance))[:-1]/price_convergance[:-1]\n",
    "\n",
    "fig, axes = plt.subplots(1,2,figsize=(10,8))\n",
    "axes[0].plot(np.arange(1,price_convergance.size+1),price_convergance,color='g',linewidth=2)\n",
    "axes[0].set_ylabel('Option Price',size=20)\n",
    "\n",
    "axes[1].plot(np.arange(1,rel_change.size+1),rel_change,color='g',linewidth=2)\n",
    "axes[1].set_ylabel('Relative Change',size=20)\n",
    "axes[1].set_yscale('log')\n",
    "\n",
    "for ax in axes:\n",
    "    xlabs = np.arange(1,price_convergance.size+1,int((price_convergance.size+1)/8)) # 8 labels on x axis\n",
    "    ax.set_xticks(xlabs,fontsize=18)\n",
    "    ax.tick_params(axis='x', labelsize=16)\n",
    "    ax.tick_params(axis='y', labelsize=16)\n",
    "    \n",
    "    \n",
    "    \n",
    "\n",
    "fig.supxlabel('Tree Steps',size=20)\n",
    "fig.suptitle(r'Stock Price: {0:.2f}, Strike Price: {1:.2f}, $\\sigma={2}$, $r={3}\\ T/year$'.format(price,strike_price,sigma,r_eff),size=20)\n",
    "fig.tight_layout()"
   ]
  },
  {
   "cell_type": "markdown",
   "id": "824da3e6",
   "metadata": {},
   "source": [
    "# American Put Example"
   ]
  },
  {
   "cell_type": "markdown",
   "id": "dde6e66c",
   "metadata": {},
   "source": [
    "### Convergence of price at intial time"
   ]
  },
  {
   "cell_type": "code",
   "execution_count": 141,
   "id": "b51f285f",
   "metadata": {},
   "outputs": [],
   "source": [
    "### Initial tree parameters                                                      ###\n",
    "### Note: the risk free rate, \"r_eff\", is units of the entire alloted time \"T\". ###\n",
    "### This means that \"dt\" is always equal to \"1/T\", but \"r_eff\" should asorb     ###\n",
    "### the proper factors to account for this. I.e. if \"T\" is 2 years and \"r\" is    ###\n",
    "### given in per year, it requires theassociated factor of 2 here.               ###\n",
    "                            ###\n",
    "    \n",
    "price = 100\n",
    "steps = 21\n",
    "strike_price = price - 2\n",
    "sigma = 0.3\n",
    "r_eff = 0.001\n",
    "\n",
    "root_ami_put = createRoot(price)\n",
    "prices = []\n",
    "for t in range(1,steps+1):  \n",
    "    r = r_eff/t\n",
    "    u = np.exp(sigma*np.sqrt(1/t))\n",
    "    d = np.exp(-sigma*np.sqrt(1/t))\n",
    "    createWithPrices(root_ami_put,t,u,d)\n",
    "    setFutures(root_ami_put,\"American\",\"put\",r,strike_price)\n",
    "    prices.append(root_ami_put.future)\n",
    "    \n"
   ]
  },
  {
   "cell_type": "code",
   "execution_count": 142,
   "id": "1fbbaa13",
   "metadata": {},
   "outputs": [
    {
     "data": {
      "image/png": "[encoded data removed]",
      "text/plain": [
       "<Figure size 720x576 with 2 Axes>"
      ]
     },
     "metadata": {
      "needs_background": "light"
     },
     "output_type": "display_data"
    }
   ],
   "source": [
    "price_convergance = np.array(prices)\n",
    "rel_change = np.abs(np.gradient(price_convergance))[:-1]/price_convergance[:-1]\n",
    "\n",
    "fig, axes = plt.subplots(1,2,figsize=(10,8))\n",
    "axes[0].plot(np.arange(1,price_convergance.size+1),price_convergance,color='g',linewidth=2)\n",
    "axes[0].set_ylabel('Option Price',size=20)\n",
    "\n",
    "axes[1].plot(np.arange(1,rel_change.size+1),rel_change,color='g',linewidth=2)\n",
    "axes[1].set_ylabel('Relative Change',size=20)\n",
    "axes[1].set_yscale('log')\n",
    "\n",
    "for ax in axes:\n",
    "    xlabs = np.arange(1,price_convergance.size+1,int((price_convergance.size+1)/8)) # 8 labels on x axis\n",
    "    ax.set_xticks(xlabs,fontsize=18)\n",
    "    ax.tick_params(axis='x', labelsize=16)\n",
    "    ax.tick_params(axis='y', labelsize=16)\n",
    "    \n",
    "    \n",
    "    \n",
    "\n",
    "fig.supxlabel('Tree Steps',size=20)\n",
    "fig.suptitle(r'Stock Price: {0:.2f}, Strike Price: {1:.2f}, $\\sigma={2}$, $r={3}\\ T/year$'.format(price,strike_price,sigma,r_eff),size=20)\n",
    "fig.tight_layout()"
   ]
  },
  {
   "cell_type": "markdown",
   "id": "b064fa00",
   "metadata": {},
   "source": [
    "# UNFINISHED EDITS BELOW"
   ]
  },
  {
   "cell_type": "markdown",
   "id": "850fccc4",
   "metadata": {},
   "source": [
    "# Drawing Tree"
   ]
  },
  {
   "cell_type": "code",
   "execution_count": null,
   "id": "4adf9623",
   "metadata": {
    "scrolled": false
   },
   "outputs": [],
   "source": [
    "T = 3\n",
    "G = nx.balanced_tree(2,T)\n",
    "G=nx.convert_node_labels_to_integers(G, first_label=1, ordering=\"sorted\", label_attribute=None)\n",
    "\n",
    "nodeNum=len(G.nodes)\n",
    "while nodeNum > 4:\n",
    "    if not (math.log(nodeNum+1,2).is_integer()):\n",
    "        print(nodeNum,nodeNum+1)\n",
    "        G = nx.contracted_nodes(G,nodeNum,nodeNum+1)\n",
    "#         del pricingNodeMap[nodeNum+1]\n",
    "    nodeNum -= 2\n",
    "       \n",
    "G.graph[\"graph\"] = dict(rankdir=\"LR\")\n",
    "pos=graphviz_layout(G, prog='dot')\n",
    "\n",
    "fig, ax = plt.subplots(figsize=(15,15))\n",
    "\n",
    "shift=20\n",
    "pos_nodes_int = {n: (x-shift, y + shift) if n < 2**T else (x + shift/2, y) for n, (x, y) in pos.items()}\n",
    "pos_nodes = {pricingNodeMap[key]:pos_nodes_int[key] for key in pricingNodeMap}\n",
    "\n",
    "# nx.relabel_nodes(G, shiftMap, copy=False)\n",
    "\n",
    "print(G.nodes(),pricingNodeMap, pos)\n",
    "\n",
    "nx.relabel_nodes(G, pricingNodeMap, copy=False)\n",
    "pos=graphviz_layout(G, prog='dot')\n",
    "print(\"\\n\",G.nodes(),pricingNodeMap,pos)\n",
    "\n",
    "nx.draw(G, pos, node_size=2, with_labels=False, arrows=False, ax=ax, node_color=\"blue\")\n",
    "\n",
    "nx.draw_networkx_labels(G, pos=pos_nodes)\n",
    "\n",
    "ax.set_title(\"Test Tree\",fontsize=25);\n",
    "\n",
    "#figure out label text size and positioning, then we are getting a nice tree"
   ]
  },
  {
   "cell_type": "code",
   "execution_count": null,
   "id": "5527448e",
   "metadata": {},
   "outputs": [],
   "source": [
    "## NEED TO FIX CONTRACTION, E.G. 11, 12, 13 SHOULD _ALL_ BE CONTRACTED, wait actually no\n",
    "\n",
    "\n",
    "T = 3\n",
    "G = nx.balanced_tree(2,T)\n",
    "G=nx.convert_node_labels_to_integers(G, first_label=1, ordering=\"sorted\", label_attribute=None)\n",
    "\n",
    "# nodeNum=len(G.nodes)\n",
    "# while nodeNum > 4:\n",
    "#     if not (math.log(nodeNum+1,2).is_integer()):\n",
    "#         G = nx.contracted_nodes(G,nodeNum,nodeNum+1)\n",
    "#         print(nodeNum,nodeNum+1)\n",
    "# #         del pricingNodeMap[nodeNum+1]\n",
    "#     nodeNum -= 2\n",
    "\n",
    "fig, ax = plt.subplots(figsize=(15,15))    \n",
    "\n",
    "G.graph[\"graph\"] = dict(rankdir=\"LR\")\n",
    "pos=graphviz_layout(G, prog='dot')\n",
    "nx.draw(G, pos, node_size=2, with_labels=False, arrows=False, ax=ax, node_color=\"blue\")\n",
    "nx.draw_networkx_labels(G, pos=pos);\n",
    "\n",
    "# nx.relabel_nodes(G, pricingNodeMap, copy=False)\n",
    "# pos_nodes = {pricingNodeMap[n]: (x-shift, y + shift) \n",
    "#                  if n < 2**T else (x + shift/2, y) for n, (x, y) in pos.items()}\n",
    "\n",
    "# nx.draw_networkx_labels(G, pos=pos_nodes)\n",
    "\n",
    "# ax.set_title(\"Test Tree\",fontsize=25);\n"
   ]
  },
  {
   "cell_type": "code",
   "execution_count": null,
   "id": "5e067208",
   "metadata": {},
   "outputs": [],
   "source": []
  },
  {
   "cell_type": "code",
   "execution_count": null,
   "id": "7c47306d",
   "metadata": {},
   "outputs": [],
   "source": []
  },
  {
   "cell_type": "code",
   "execution_count": null,
   "id": "bbceba86",
   "metadata": {},
   "outputs": [],
   "source": []
  },
  {
   "cell_type": "code",
   "execution_count": null,
   "id": "1b2ec303",
   "metadata": {},
   "outputs": [],
   "source": []
  },
  {
   "cell_type": "code",
   "execution_count": null,
   "id": "37079557",
   "metadata": {},
   "outputs": [],
   "source": []
  },
  {
   "cell_type": "code",
   "execution_count": null,
   "id": "425127a7",
   "metadata": {},
   "outputs": [],
   "source": []
  },
  {
   "cell_type": "code",
   "execution_count": null,
   "id": "7715ff76",
   "metadata": {},
   "outputs": [],
   "source": []
  },
  {
   "cell_type": "markdown",
   "id": "6d2324d1",
   "metadata": {},
   "source": [
    "# To-do list:\n",
    " ### - connect fully steup trees to networkx diagram drawer\n",
    " ### - enable sampled u/d functionality"
   ]
  },
  {
   "cell_type": "markdown",
   "id": "24689beb",
   "metadata": {},
   "source": [
    "# Tests"
   ]
  },
  {
   "cell_type": "code",
   "execution_count": null,
   "id": "c15889cd",
   "metadata": {},
   "outputs": [],
   "source": [
    "root = Node(1)\n",
    "createWithPrices(root,3,1.1,0.9)\n",
    "prices = [\"price{0}\\n future{0}\\n\\n\".format(i) for i in range(15)]\n",
    "newNodeMap = dict(zip(list(getNodes(root)),prices))\n",
    "newNodeMap"
   ]
  },
  {
   "cell_type": "code",
   "execution_count": null,
   "id": "9acb7eab",
   "metadata": {},
   "outputs": [],
   "source": [
    "root = createRoot()\n",
    "breadthFirstCreate(root,3)\n",
    "print(list(getNodes(root)))"
   ]
  },
  {
   "cell_type": "code",
   "execution_count": null,
   "id": "1ad61cbc",
   "metadata": {},
   "outputs": [],
   "source": [
    "root = createRoot([20,None])"
   ]
  },
  {
   "cell_type": "code",
   "execution_count": null,
   "id": "46f9d42f",
   "metadata": {},
   "outputs": [],
   "source": [
    "u = 1.1\n",
    "d = 0.9\n",
    "T = 2\n",
    "createWithPrices(root,T,u,d)"
   ]
  },
  {
   "cell_type": "code",
   "execution_count": null,
   "id": "d4218121",
   "metadata": {},
   "outputs": [],
   "source": [
    "root.left.left.price"
   ]
  },
  {
   "cell_type": "code",
   "execution_count": null,
   "id": "f50fef50",
   "metadata": {},
   "outputs": [],
   "source": [
    "nodes = list(getNodes(root))"
   ]
  },
  {
   "cell_type": "code",
   "execution_count": null,
   "id": "0bfde2fd",
   "metadata": {},
   "outputs": [],
   "source": [
    "print(nodes)"
   ]
  },
  {
   "cell_type": "code",
   "execution_count": null,
   "id": "4f73d3a1",
   "metadata": {},
   "outputs": [],
   "source": [
    "getT(root)"
   ]
  },
  {
   "cell_type": "code",
   "execution_count": null,
   "id": "a7d50fe9",
   "metadata": {},
   "outputs": [],
   "source": [
    "nodes = BFS_DepthList(root);\n",
    "# [n.key for sub in nodes for n in sub]\n",
    "for nodette in nodes:\n",
    "    print([n.price for n in nodette])\n",
    "print([n.key for n in nodes[-1]])"
   ]
  },
  {
   "cell_type": "code",
   "execution_count": null,
   "id": "742d9cdf",
   "metadata": {},
   "outputs": [],
   "source": [
    "setFutures(root,\"European\",\"call\",0.12*.25,21)\n",
    "print(list(getNodes(root)))"
   ]
  },
  {
   "cell_type": "code",
   "execution_count": null,
   "id": "f436c1a5",
   "metadata": {},
   "outputs": [],
   "source": []
  }
 ],
 "metadata": {
  "kernelspec": {
   "display_name": "Python 3 (ipykernel)",
   "language": "python",
   "name": "python3"
  },
  "language_info": {
   "codemirror_mode": {
    "name": "ipython",
    "version": 3
   },
   "file_extension": ".py",
   "mimetype": "text/x-python",
   "name": "python",
   "nbconvert_exporter": "python",
   "pygments_lexer": "ipython3",
   "version": "3.8.10"
  }
 },
 "nbformat": 4,
 "nbformat_minor": 5
}
