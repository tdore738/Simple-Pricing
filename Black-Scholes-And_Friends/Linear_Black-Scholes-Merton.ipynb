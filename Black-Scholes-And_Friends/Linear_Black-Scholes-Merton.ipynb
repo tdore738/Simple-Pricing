{
 "cells": [
  {
   "cell_type": "code",
   "execution_count": 1,
   "id": "2174f42e",
   "metadata": {},
   "outputs": [],
   "source": [
    "import numpy as np\n",
    "import scipy as sp\n",
    "from scipy.stats import norm\n",
    "import matplotlib\n",
    "from matplotlib import pyplot as plt\n",
    "import random as rand\n",
    "import math\n",
    "def nearest_ind(array, value):\n",
    "    array = np.asarray(array)\n",
    "    idx = (np.abs(array - value)).argmin()\n",
    "    return idx#array[idx]"
   ]
  },
  {
   "cell_type": "code",
   "execution_count": 2,
   "id": "418a75a9",
   "metadata": {},
   "outputs": [],
   "source": [
    "def forwardDif(F, Fnext, delta, k=1):\n",
    "    return (Fnext - F)/(delta*k)\n",
    "def backwardDif(F, Fprev, delta, k=1):\n",
    "    return (F - Fprev)/(delta*k)\n",
    "def centerDif(Fprev, Fnext, delta, k=1):\n",
    "    return (Fnext - Fprev)/(2*k*delta)\n",
    "\n",
    "def center_second(F, Fprev, Fnext, dx):\n",
    "    return ( Fnext - 2*F + Fprev )/(dx*dx)"
   ]
  },
  {
   "cell_type": "markdown",
   "id": "6395959d",
   "metadata": {},
   "source": [
    "# Black-Scholes-Merton"
   ]
  },
  {
   "cell_type": "markdown",
   "id": "543b98ed",
   "metadata": {},
   "source": [
    "## Define option classes"
   ]
  },
  {
   "cell_type": "code",
   "execution_count": 182,
   "id": "de3e280b",
   "metadata": {},
   "outputs": [],
   "source": [
    "# class Diffusion_Test:\n",
    "#     strike_price = 0.0\n",
    "#     maturity_time = 0.0\n",
    "#     S_MAX = 0.0\n",
    "#     volatility = 0.0\n",
    "#     risk_free_rate = 0.0\n",
    "#     def __init__(self,T,Smax,alpha,K=0.,r=0.):\n",
    "#         self.strike_price = K\n",
    "#         self.maturity_time = T\n",
    "#         self.S_MAX = Smax \n",
    "#         self.volatility = alpha\n",
    "#         self.risk_free_rate = r\n",
    "        \n",
    "#     def Initial_Conds(self,S):\n",
    "#         return (1/(np.pi*np.pi))*math.sin(np.pi*S)\n",
    "#     def Boundary_Conds(self,s):\n",
    "#         if(s==0):\n",
    "#             return 0.0\n",
    "#         elif(s==self.S_MAX):\n",
    "#             return 0.0\n",
    "#         else:\n",
    "#             return -1.0 #THIS SHOULD _NEVER_ BE RETURNED, BUT CAN BE USED AS A FLAG\n",
    "        \n",
    "        \n",
    "# ALL options must IN NAME have THE SAME variables and functions\n",
    "class European_Long_Call:\n",
    "    strike_price = 0.0\n",
    "    maturity_time = 0.0\n",
    "    volatility = 0.0\n",
    "    risk_free_rate = 0.0\n",
    "    __R = 0\n",
    "    __S_grid = False # always false for euro long call solver\n",
    "    __X_MIN = -1 # always -1 for euro long call solver\n",
    "    __X_MAX = 0.99 # always 'almost' 1 for euro long call solver\n",
    "    #Don't make too small!\n",
    "    \n",
    "    def __init__(self,K,T,sigma,r):\n",
    "        self.strike_price = K\n",
    "        self.maturity_time = T\n",
    "        self.volatility = sigma\n",
    "        self.risk_free_rate = r\n",
    "        self.__R = 2*r/(sigma*sigma)\n",
    "        \n",
    "    @property\n",
    "    def has_S_grid(self):\n",
    "        return self.__S_grid\n",
    "    \n",
    "    @property\n",
    "    def X_MIN(self):\n",
    "        return self.__X_MIN\n",
    "    \n",
    "    @property\n",
    "    def X_MAX(self):\n",
    "        return self.__X_MAX\n",
    "    \n",
    "    @X_MIN.setter\n",
    "    def setX_MIN(value):\n",
    "        print( ''' EUROPEAN LONG CALL DOES NOT SUPPORT CHANGING X_MIN ''')\n",
    "        return None\n",
    "    \n",
    "    @X_MAX.setter\n",
    "    def setX_MIN(value):\n",
    "        print( ''' EUROPEAN LONG CALL DOES NOT SUPPORT CHANGING X_MAX ''')\n",
    "        return None\n",
    "        \n",
    "    def Initial_Conds(self,X):\n",
    "        # for euro long call, -1 <= S < 1\n",
    "        # and strike price is divided out\n",
    "        K = self.strike_price\n",
    "        return np.maximum(self.SofX(X)/K - 1,0.0)\n",
    "    \n",
    "    def Boundary_Conds(self,ind_s):\n",
    "        if(ind_s==0):\n",
    "            return 0.0\n",
    "        else:\n",
    "            xM = self.__X_MAX\n",
    "            K = self.strike_price\n",
    "            return self.SofX(xM)/K - 1\n",
    "        \n",
    "    def XofS(self,S):\n",
    "        SovK = S/self.strike_price\n",
    "        return np.where( SovK==0.0, -1., np.tanh( np.log(SovK) ) )\n",
    "\n",
    "    def SofX(self,X): # WITH DIMENSIONS\n",
    "        K = self.strike_price\n",
    "        return np.where( X==-1.0, 0.0, K*np.sqrt((1.+X)/(1.-X))  )\n",
    "        \n",
    "    def Evolution_Equation(self, x, fHere, df_dX, d2f_dX2):\n",
    "        R = self.__R\n",
    "        #In this case, we use the dimensionless BSM equations obtained\n",
    "        #via two succsessive substiutions:\n",
    "        # 1) x = ln(S/K) => 2) y = tanh(x)\n",
    "        # the second of which produces the equations below\n",
    "        # this is done for better handling of boundary conditions at infinity\n",
    "        return ( ( d2f_dX2*(1-x*x) + (R-1)*df_dX*(1-2*x) )*(1-x*x) - R*fHere )\n",
    "        \n",
    "    def BSM_sol(self,tau,S): #Takes in time to maturity, aka tau\n",
    "        sigma,K,r = self.volatility, self.strike_price, self.risk_free_rate\n",
    "        eps = 1e-16 #to prevent divergences\n",
    "        \n",
    "        dPlus = ( 1/(sigma*np.sqrt(tau) + eps) )*( np.log(S/K + eps) + (r+sigma*sigma/2)*tau )\n",
    "        dMinus = dPlus - (sigma*np.sqrt(tau))\n",
    "        N = lambda s: norm.cdf(s)\n",
    "#         print('r: ',r,', dPlus: ',dPlus,', dMinus: ',dMinus,', log(s/k + eps): ',np.log(S/K + eps),\n",
    "#               \"\\n \"+', S: ',S,', K: ',K,\"\\n ----------------------------- \\n\")\n",
    "        return N(dPlus)*(S) - N(dMinus)*K*np.exp(-r*tau)\n",
    "        "
   ]
  },
  {
   "cell_type": "markdown",
   "id": "a81a5c4a",
   "metadata": {},
   "source": [
    "## Explicit Method"
   ]
  },
  {
   "cell_type": "code",
   "execution_count": 196,
   "id": "9950a8ac",
   "metadata": {},
   "outputs": [],
   "source": [
    "def Explicit_BSM(Option, N_s, N_t,return_transformed=False): # 3 arguments, 1 optional\n",
    "        # if set to true, return_transformed will return the solution in\n",
    "        # the transformed X cooridnates given by X = tanh( ln(S/K) )\n",
    "        # futher substituion: tau = T-t dtau = -dt, tau = \"time to expiry\"\n",
    "        \n",
    "        #ensure convergence of Explicit algorithm, q = (k*dt)/(dx^2) <= 1/2\n",
    "        T = Option.maturity_time #also set maximum time\n",
    "        xMin,xMax = Option.X_MIN, Option.X_MAX #also set maximum and minimum X-space quantity\n",
    "        \n",
    "        q = (T*N_s*N_s)/(N_t*xMax) #estimate of delta ratios\n",
    "        N_t_hidden = 0\n",
    "        if(q>0.5):\n",
    "            N_t_hidden = math.ceil(2*T*N_s*N_s*xMax) + 1\n",
    "        else:\n",
    "            N_t_hidden = N_t\n",
    "        \n",
    "        X = np.linspace(xMin,xMax,N_s) #create X grid, may be output\n",
    "        dX = X[1] - X[0] #find grid spacing\n",
    "\n",
    "        sigma = Option.volatility\n",
    "        TAU = np.linspace(0,T,N_t_hidden)*(0.5*sigma*sigma) #create Tau grid, scale by sigma^2\n",
    "        dTau = TAU[1] - TAU[0]\n",
    "        \n",
    "#         ICs = np.vectorize(Option.Initial_Conds)\n",
    "        f0 = Option.Initial_Conds(X) # returns an array of f at maturity for this option type\n",
    "        f_of_tau_X = [f0] # this will be the output\n",
    "        \n",
    "        for j,tau in enumerate(TAU[1:]): # BEING TIME LOOP\n",
    "            f_of_X_Now = f_of_tau_X[j]\n",
    "            f_of_X_Next = [] # clear the list to be appended\n",
    "            \n",
    "            for i,x in enumerate(X): # BEGIN X LOOP\n",
    "                if(i==0 or i==(N_s-1)): #apply boundary condition at S boundaries\n",
    "                    f_of_X_Next.append(Option.Boundary_Conds(i)) #technically applied at 0th and last index\n",
    "                else:           # if not at boundary, solve dif eq\n",
    "                    fHere = f_of_X_Now[i]\n",
    "                    fNext_X = f_of_X_Now[i+1]\n",
    "                    fPrev_X = f_of_X_Now[i-1]\n",
    "\n",
    "                    df_dX = forwardDif(fHere,fNext_X,dX)\n",
    "                    d2f_dX2 = center_second(fHere,fPrev_X,fNext_X,dX)\n",
    "\n",
    "                    df_dtau = Option.Evolution_Equation(x,fHere,df_dX,d2f_dX2)\n",
    "                    fNext_tau = fHere + dTau*df_dtau\n",
    "                    f_of_X_Next.append(fNext_tau)\n",
    "            #END X LOOP\n",
    "            f_of_tau_X.append(np.array(f_of_X_Next))\n",
    "        #END TIME LOOP\n",
    "        \n",
    "        TAU = TAU/(0.5*sigma*sigma) # return to original units\n",
    "        if(Option.has_S_grid==False and return_transformed==False):\n",
    "            X = Option.SofX(X)\n",
    "\n",
    "        f_of_tau_X = np.array(f_of_tau_X)*Option.strike_price #convert to array and restore units\n",
    "        return (TAU,X,f_of_tau_X)"
   ]
  },
  {
   "cell_type": "markdown",
   "id": "f2d79de5",
   "metadata": {},
   "source": [
    "# TESTING"
   ]
  },
  {
   "cell_type": "code",
   "execution_count": 220,
   "id": "6f916d84",
   "metadata": {},
   "outputs": [],
   "source": [
    "strike_price = 1\n",
    "T = 1\n",
    "sigma = 0.3\n",
    "r = 0.1\n",
    "#European_Long_Call(K,T,sigma,r)\n",
    "option_test_1 = European_Long_Call(strike_price,T,sigma,r)\n"
   ]
  },
  {
   "cell_type": "code",
   "execution_count": 221,
   "id": "6c75737c",
   "metadata": {},
   "outputs": [],
   "source": [
    "Ns, Nt = 150,5000\n",
    "tau,S,f = Explicit_BSM(option_test_1,Ns,Nt)"
   ]
  },
  {
   "cell_type": "code",
   "execution_count": 199,
   "id": "e9f6d846",
   "metadata": {},
   "outputs": [
    {
     "data": {
      "text/plain": [
       "[<matplotlib.lines.Line2D at 0x7fefdd284d90>]"
      ]
     },
     "execution_count": 199,
     "metadata": {},
     "output_type": "execute_result"
    },
    {
     "data": {
      "image/png": "[encoded data removed]",
      "text/plain": [
       "<Figure size 432x288 with 1 Axes>"
      ]
     },
     "metadata": {
      "needs_background": "light"
     },
     "output_type": "display_data"
    }
   ],
   "source": [
    "# plt.plot(tau[::tau.size // 100][1:],S)\n",
    "plt.plot(tau,f[:,100])"
   ]
  },
  {
   "cell_type": "code",
   "execution_count": null,
   "id": "5f0f460a",
   "metadata": {},
   "outputs": [],
   "source": [
    "TAU, Ss = np.meshgrid(tau,S)\n",
    "exactF = exSol(TAU,Ss)"
   ]
  },
  {
   "cell_type": "code",
   "execution_count": null,
   "id": "737b514b",
   "metadata": {},
   "outputs": [],
   "source": [
    "plt.imshow(exactF.T, extent=[TAU.min(), TAU.max(), Ss.min(), Ss.max()], origin=\"lower\", cmap=\"viridis\")\n",
    "plt.colorbar(label=\"f(x, y)\")\n",
    "plt.show()\n",
    "\n"
   ]
  },
  {
   "cell_type": "code",
   "execution_count": null,
   "id": "1812e69a",
   "metadata": {},
   "outputs": [],
   "source": [
    "plt.imshow(f.T, extent=[TAU.min(), TAU.max(), Ss.min(), Ss.max()], origin=\"lower\", cmap=\"viridis\")\n",
    "plt.colorbar(label=\"f(x, y)\")\n",
    "plt.show()"
   ]
  },
  {
   "cell_type": "code",
   "execution_count": 222,
   "id": "a866c0ec",
   "metadata": {},
   "outputs": [
    {
     "name": "stdout",
     "output_type": "stream",
     "text": [
      "1.9672510795361795\n"
     ]
    },
    {
     "data": {
      "image/png": "[encoded data removed]",
      "text/plain": [
       "<Figure size 1152x648 with 3 Axes>"
      ]
     },
     "metadata": {
      "needs_background": "light"
     },
     "output_type": "display_data"
    }
   ],
   "source": [
    "fig, (ax1,ax2,ax3) = plt.subplots(1,3,figsize=(16,9))\n",
    "# t = T - tau\n",
    "t = tau\n",
    "ind1,ind2,ind3 = nearest_ind(t,T/1),nearest_ind(t,T/2),nearest_ind(t,0.)\n",
    "# ind1,ind2,ind3 = 2,1,0\n",
    "\n",
    "\n",
    "t1,t2,t3 = t[ind1],t[ind2],t[ind3]\n",
    "f1,f2,f3 = f[ind1],f[ind2],f[ind3]\n",
    "exSol = np.vectorize(lambda s,t: option_test_1.BSM_sol(t,s))\n",
    "cut = nearest_ind(S,2)\n",
    "Scut,f1,f2,f3 = S[:cut],f1[:cut],f2[:cut],f3[:cut]\n",
    "sol1,sol2,sol3 = exSol(Scut,t1), exSol(Scut,t2), exSol(Scut,t3)\n",
    "\n",
    "ax1.plot(Scut,f1)\n",
    "ax1.plot(Scut,sol1)\n",
    "ax1.set_title(r'$t={}$'.format(t1),fontsize=20)\n",
    "\n",
    "# ax1.set_ylim((-ymax,ymax))\n",
    "\n",
    "ax2.plot(Scut,f2)\n",
    "ax2.plot(Scut,sol2)\n",
    "ax2.set_title(r'$t={}$'.format(t2),fontsize=20)\n",
    "# ax2.set_ylim((-ymax,ymax))\n",
    "\n",
    "ax3.plot(Scut,f3)\n",
    "ax3.plot(Scut,sol3)\n",
    "ax3.set_title(r'$t={}$'.format(t3),fontsize=20)\n",
    "# ax3.set_ylim((-ymax,ymax))\n",
    "\n",
    "Smax = Scut[-1]\n",
    "print(Smax)\n",
    "for ax in fig.axes:\n",
    "    ax.hlines(Smax-strike_price,-10,10,color='k',linestyle='--')\n",
    "    ax.set_xlim((-.05,Smax*(1+0.05)))\n",
    "    ax.set_ylim(-0.05,(Smax-strike_price)*(1+0.05))\n",
    "\n",
    "\n"
   ]
  }
 ],
 "metadata": {
  "kernelspec": {
   "display_name": "Python 3 (ipykernel)",
   "language": "python",
   "name": "python3"
  },
  "language_info": {
   "codemirror_mode": {
    "name": "ipython",
    "version": 3
   },
   "file_extension": ".py",
   "mimetype": "text/x-python",
   "name": "python",
   "nbconvert_exporter": "python",
   "pygments_lexer": "ipython3",
   "version": "3.8.10"
  }
 },
 "nbformat": 4,
 "nbformat_minor": 5
}
