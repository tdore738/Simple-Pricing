{
 "cells": [
  {
   "cell_type": "code",
   "execution_count": 1,
   "id": "c9cfa95f",
   "metadata": {},
   "outputs": [],
   "source": [
    "import numpy as np\n",
    "from matplotlib import pyplot as plt\n",
    "from numpy import random as rand\n",
    "import sys\n",
    "from scipy.stats import norm\n",
    "import math"
   ]
  },
  {
   "cell_type": "markdown",
   "id": "00943e9e",
   "metadata": {},
   "source": [
    "# Stocks and Hedges"
   ]
  },
  {
   "cell_type": "code",
   "execution_count": 2,
   "id": "06b5c715",
   "metadata": {},
   "outputs": [],
   "source": [
    "class stock:\n",
    "    def __init__(self, dt, T, Scur, mu, sigma, strike_price):\n",
    "        self.mu = mu\n",
    "        self.sigma = sigma\n",
    "        self.dt = dt\n",
    "        self.N = math.ceil(T/dt)\n",
    "        self.T = self.N*dt\n",
    "        self.N += 1\n",
    "        self.Scur = Scur\n",
    "        self.Tcur = 0.0\n",
    "        self.K = strike_price\n",
    "        \n",
    "        #tests:\n",
    "#         self.counter = 0\n",
    "#         self.stock_list = [self.Scur,48.12,47.37,50.25,51.75,53.12,53.00,51.87,51.38,53.00,49.88,48.50,49.88,50.37,52.13,51.88,52.87,54.87,54.62,55.87,57.25]\n",
    "#         self.stock_list = [self.Scur,48.12,47.37,50.25,51.75,53.12,53.00,51.87,51.38,53.00,49.88,48.50,49.88,50.37,52.13,51.88,52.87,54.87,54.62,55.87,52]\n",
    "        \n",
    "    def update_mu(self,new_mu):\n",
    "        self.mu = new_mu\n",
    "    def update_sigma(self,new_sigma):\n",
    "        self.sigma = new_sigma\n",
    "        \n",
    "    def sample(self): #probably not needed\n",
    "        eps = rand.normal(0,1)\n",
    "        return Scur*(1 + self.mu*Tcur + self.sigma*eps*np.sqrt(dt))\n",
    "    def step(self):\n",
    "        eps = rand.normal(0,1)\n",
    "        self.Tcur += dt\n",
    "        self.Scur = self.Scur*(1 + self.mu*self.Tcur + self.sigma*eps*np.sqrt(dt))\n",
    "#         self.counter+=1\n",
    "#         if self.counter < self.N:\n",
    "#             self.Scur = self.stock_list[self.counter]\n",
    "# #             print(self.counter,self.Scur)\n",
    "        return self.Scur    \n",
    "        "
   ]
  },
  {
   "cell_type": "code",
   "execution_count": 15,
   "id": "ef5c6650",
   "metadata": {},
   "outputs": [],
   "source": [
    "class delta_hedge_process:\n",
    "    def long_call_hedge(self,stock):\n",
    "        S = stock.Scur\n",
    "        K = stock.K\n",
    "        tau = stock.T - stock.Tcur\n",
    "        sigma = stock.sigma\n",
    "        r = self.risk_free\n",
    "        d_plus = (1/(sigma*np.sqrt(tau)))*( np.log(S/K) + (r + sigma*sigma/2)*tau )\n",
    "        return norm.cdf(d_plus)\n",
    "    def NEW_LCH(self,stock):\n",
    "        S = stock.Scur\n",
    "        K = stock.K\n",
    "        tau = stock.T - stock.Tcur\n",
    "        sigma = stock.sigma\n",
    "        r = self.risk_free\n",
    "        d_plus = (1/(sigma*np.sqrt(tau)))*( np.log(S/K) + (r + sigma*sigma/2)*tau )\n",
    "        d_minus = d_plus - sigma*np.sqrt(tau)\n",
    "        C = S*norm.cdf(d_plus) - K*np.exp(-r*tau)*norm.cdf(d_minus)\n",
    "        return C/S\n",
    "    def Mixed_invT(self,stock,Reg=0.1):\n",
    "        sigma = stock.sigma\n",
    "        t = stock.T - stock.Tcur\n",
    "        r = self.risk_free\n",
    "        S = stock.Scur\n",
    "        K = stock.K\n",
    "        d_plus = (1/(sigma*np.sqrt(t)))*( np.log(S/K) + (r + sigma*sigma/2)*t )\n",
    "        d_minus = d_plus - sigma*np.sqrt(t)\n",
    "        Reg = K*.1/t*sigma*sigma\n",
    "        e = Reg/10\n",
    "        in_Reg = 0.5*(1 + np.tanh((S - (K - Reg/2)) / e))\n",
    "        out_Reg = 0.5*(1 - np.tanh((S - (K + Reg/2)) / e))\n",
    "        window = in_Reg*out_Reg\n",
    "        \n",
    "        LCH = norm.cdf(d_plus)\n",
    "        C = S*norm.cdf(d_plus) - K*np.exp(-r*t)*norm.cdf(d_minus)\n",
    "        NEW_LCH = C/S\n",
    "        return (1-window)*LCH + window*NEW_LCH\n",
    "    def Mixed_theta(self,stock,Reg=0.1):\n",
    "        sigma = stock.sigma\n",
    "        t = stock.T - stock.Tcur\n",
    "        r = self.risk_free\n",
    "        S = stock.Scur\n",
    "        K = stock.K\n",
    "        d_plus = (1/(sigma*np.sqrt(t)))*( np.log(S/K) + (r + sigma*sigma/2)*t )\n",
    "        d_minus = d_plus - sigma*np.sqrt(t)\n",
    "        theta = (-S*norm.pdf(d_plus)*sigma/(2*np.sqrt(t)) - r*K*np.exp(-r*t)*norm.cdf(d_minus)) + 1e-16\n",
    "        Reg = np.abs(theta)/(sigma*sigma)\n",
    "        e = Reg/10\n",
    "        in_Reg = 0.5*(1 + np.tanh((S - (K - Reg/2)) / e))\n",
    "        out_Reg = 0.5*(1 - np.tanh((S - (K + Reg/2)) / e))\n",
    "        window = in_Reg*out_Reg\n",
    "        \n",
    "        LCH = norm.cdf(d_plus)\n",
    "        C = S*norm.cdf(d_plus) - K*np.exp(-r*t)*norm.cdf(d_minus)\n",
    "        NEW_LCH = C/S\n",
    "        return (1-window)*LCH + window*NEW_LCH\n",
    "        \n",
    "    def Mixed_constant(self,stock,Reg=0.1):\n",
    "        sigma = stock.sigma\n",
    "        t = stock.T - stock.Tcur\n",
    "        r = self.risk_free\n",
    "        S = stock.Scur\n",
    "        K = stock.K\n",
    "        d_plus = (1/(sigma*np.sqrt(t)))*( np.log(S/K) + (r + sigma*sigma/2)*t )\n",
    "        d_minus = d_plus - sigma*np.sqrt(t)\n",
    "        Reg *= K\n",
    "        e = Reg/10\n",
    "        in_Reg = 0.5*(1 + np.tanh((S - (K - Reg/2)) / e))\n",
    "        out_Reg = 0.5*(1 - np.tanh((S - (K + Reg/2)) / e))\n",
    "        window = in_Reg*out_Reg\n",
    "        \n",
    "        LCH = norm.cdf(d_plus)\n",
    "        C = S*norm.cdf(d_plus) - K*np.exp(-r*t)*norm.cdf(d_minus)\n",
    "        NEW_LCH = C/S\n",
    "        return (1-window)*LCH + window*NEW_LCH\n",
    "        \n",
    "    def __init__(self, hedge_types, rfRate, stock_args, contracts=1):\n",
    "    # all functions above should have a place in this dictionary\n",
    "        self.hedge_dict = {\"long call\":self.long_call_hedge,\"new long call\":self.NEW_LCH,\n",
    "                           \"mixed-theta\":self.Mixed_theta,\"mixed-invT\":self.Mixed_invT,\n",
    "                           \"mixed-constant\":self.Mixed_constant}\n",
    "        \n",
    "    # All time should be given in units of years\n",
    "        self.risk_free = rfRate\n",
    "        self.r_eff = rfRate*dt\n",
    "        self.stock = stock(*stock_args)\n",
    "        self.num_of_contracts = contracts \n",
    "        \n",
    "        self.hedge_types = hedge_types\n",
    "        self.hedges_to_do = [self.hedge_dict[hedge] for hedge in hedge_types]\n",
    "        self.FINAL_PRICE = [0 for i in range(len(hedge_types))]\n",
    "        \n",
    "    def process_to_maturity(self):\n",
    "        num_of_hedge_types = len(self.hedges_to_do)\n",
    "        S_of_t = []\n",
    "        cost_of_t = [[] for i in range(num_of_hedge_types)]\n",
    "        cumul_cost_of_t = [[] for i in range(num_of_hedge_types)]\n",
    "        loan_of_t = [[] for i in range(num_of_hedge_types)]\n",
    "        interest_of_t = [[] for i in range(num_of_hedge_types)]\n",
    "        shares_of_t = [[] for i in range(num_of_hedge_types)]\n",
    "        cumul_shares_of_t = [[] for i in range(num_of_hedge_types)]\n",
    "        \n",
    "        shares = [0 for i in range(num_of_hedge_types)]\n",
    "        cumul_shares = [0 for i in range(num_of_hedge_types)]\n",
    "        interest = [0 for i in range(num_of_hedge_types)]\n",
    "        cost = [0 for i in range(num_of_hedge_types)]\n",
    "        cumul_cost = [0 for i in range(num_of_hedge_types)]\n",
    "        \n",
    "        for i in range(self.stock.N):\n",
    "            S = self.stock.Scur\n",
    "            S_of_t.append(S)\n",
    "            for j in range(num_of_hedge_types):\n",
    "                delta = self.hedges_to_do[j](self.stock)\n",
    "                shares[j] = delta - cumul_shares[j]\n",
    "                cumul_shares[j] += shares[j]\n",
    "                cost[j] = shares[j]*S\n",
    "                cumul_cost[j] += cost[j] + interest[j]\n",
    "                \n",
    "                if cumul_cost[j]>0.0:\n",
    "                    interest[j] = cumul_cost[j]*self.r_eff\n",
    "                    \n",
    "                shares_of_t[j].append(shares[j])\n",
    "                cumul_shares_of_t[j].append(cumul_shares[j])\n",
    "                cost_of_t[j].append(cost[j])\n",
    "                cumul_cost_of_t[j].append(cumul_cost[j])\n",
    "                interest_of_t[j].append(interest[j])\n",
    "                \n",
    "            self.stock.step()\n",
    "            \n",
    "        for j in range(num_of_hedge_types):\n",
    "#             final_sell = -S_of_t[-1]*cumul_shares_of_t[j][-1]\n",
    "#             cost_of_t[j].append(final_sell)\n",
    "#             cumul_cost_of_t[j].append(cumul_cost_of_t[j][-1]+final_sell)\n",
    "            \n",
    "            if cumul_shares_of_t[j][-1]==1:\n",
    "                self.FINAL_PRICE[j] = cumul_cost_of_t[j][-1] - self.stock.K\n",
    "            else:\n",
    "                self.FINAL_PRICE[j] = cumul_cost_of_t[j][-1]\n",
    "            \n",
    "        return S_of_t, cost_of_t, cumul_cost_of_t, shares_of_t, cumul_shares_of_t, interest_of_t"
   ]
  },
  {
   "cell_type": "markdown",
   "id": "59af0031",
   "metadata": {},
   "source": [
    "# Running:"
   ]
  },
  {
   "cell_type": "code",
   "execution_count": 16,
   "id": "d5f5b302",
   "metadata": {},
   "outputs": [],
   "source": [
    "Scur = 49\n",
    "strike_price = 50\n",
    "rfRate = 0.05\n",
    "sigma = 0.05\n",
    "T = 20./52.\n",
    "dt = 1./52.\n",
    "mu = 0.\n",
    "stock_args = (dt, T, Scur, mu, sigma, strike_price)\n",
    "\n",
    "hedge_types = [\"long call\",\"mixed-theta\",\"mixed-invT\",\"mixed-constant\"]\n",
    "my_delta_hedge = delta_hedge_process(hedge_types, rfRate, stock_args)"
   ]
  },
  {
   "cell_type": "code",
   "execution_count": 17,
   "id": "b06913fa",
   "metadata": {},
   "outputs": [],
   "source": [
    "S, cost, cumul_cost, shares, cumul_shares, interest = my_delta_hedge.process_to_maturity()"
   ]
  },
  {
   "cell_type": "code",
   "execution_count": 18,
   "id": "e1f00f81",
   "metadata": {},
   "outputs": [
    {
     "data": {
      "text/plain": [
       "[0.4211641452333019,\n",
       " 0.010091233200490823,\n",
       " 0.34188623798368295,\n",
       " 0.00963213177821362]"
      ]
     },
     "execution_count": 18,
     "metadata": {},
     "output_type": "execute_result"
    }
   ],
   "source": [
    "my_delta_hedge.FINAL_PRICE"
   ]
  },
  {
   "cell_type": "code",
   "execution_count": 24,
   "id": "e6e10d34",
   "metadata": {},
   "outputs": [],
   "source": [
    "def auto_subplots(n, **kwargs):\n",
    "    cols = math.ceil(math.sqrt(n))\n",
    "    rows = math.ceil(n / cols)\n",
    "    fig, axes = plt.subplots(rows, cols, **kwargs)\n",
    "    axes = axes.flatten() if n > 1 else [axes]\n",
    "    return fig, axes[:n]"
   ]
  },
  {
   "cell_type": "markdown",
   "id": "c9b3b149",
   "metadata": {},
   "source": [
    "# Comparing Hedging Methods Statistically"
   ]
  },
  {
   "cell_type": "markdown",
   "id": "48acbae2",
   "metadata": {},
   "source": [
    "## small variance"
   ]
  },
  {
   "cell_type": "code",
   "execution_count": 19,
   "id": "929bb00c",
   "metadata": {},
   "outputs": [
    {
     "name": "stdout",
     "output_type": "stream",
     "text": [
      "Black-Scholes Price:  1.202956651115926\n"
     ]
    }
   ],
   "source": [
    "S = 50\n",
    "K = 50\n",
    "tau = 20./52.\n",
    "sigma = 0.05\n",
    "r = 0.05\n",
    "d_plus = (1/(sigma*np.sqrt(tau)))*( np.log(S/K) + (r + sigma*sigma/2)*tau )\n",
    "d_minus = d_plus - sigma*np.sqrt(tau)\n",
    "BS_price = S*norm.cdf(d_plus) - K*np.exp(-r*tau)*norm.cdf(d_minus)\n",
    "print(\"Black-Scholes Price: \", BS_price)"
   ]
  },
  {
   "cell_type": "code",
   "execution_count": 20,
   "id": "af08d864",
   "metadata": {},
   "outputs": [],
   "source": [
    "hedge_types = [\"long call\",\"mixed-theta\",\"mixed-invT\",\"mixed-constant\"]\n",
    "costs = [[] for _ in range(len(hedge_types))]\n",
    "for i in range(10000):\n",
    "    Scur = 50\n",
    "    strike_price = 50\n",
    "    rfRate = 0.05\n",
    "    sigma = 0.05\n",
    "    T = 20./52.\n",
    "    dt = 1./52.\n",
    "    mu = 0.\n",
    "    stock_args = (dt, T, Scur, mu, sigma, strike_price)\n",
    "\n",
    "    my_delta_hedge = delta_hedge_process(hedge_types, rfRate, stock_args)\n",
    "\n",
    "    S, cost, cumul_cost, shares, cumul_shares, interest = my_delta_hedge.process_to_maturity()\n",
    "    final_prices = my_delta_hedge.FINAL_PRICE\n",
    "    for i,price in enumerate(final_prices):\n",
    "        costs[i].append(price)\n",
    "    \n",
    "# traditional_cost = np.array(traditional_cost)\n",
    "# my_cost = np.array(my_cost)\n",
    "costs = np.array(costs)"
   ]
  },
  {
   "cell_type": "code",
   "execution_count": 39,
   "id": "749132e3",
   "metadata": {},
   "outputs": [
    {
     "name": "stdout",
     "output_type": "stream",
     "text": [
      "Averages:  [1.23213813 0.62550171 1.16999401 3.70023856]\n",
      "Variances:  [1.35127439e-02 8.04352279e-01 1.06743922e-01 1.14837562e+02]\n"
     ]
    }
   ],
   "source": [
    "print(\"Averages: \",np.mean(costs,axis=1))\n",
    "print(\"Variances: \",np.var(costs,axis=1))"
   ]
  },
  {
   "cell_type": "code",
   "execution_count": 38,
   "id": "93bba7f7",
   "metadata": {},
   "outputs": [
    {
     "data": {
      "image/png": "[encoded data removed]",
      "text/plain": [
       "<Figure size 864x576 with 4 Axes>"
      ]
     },
     "metadata": {
      "needs_background": "light"
     },
     "output_type": "display_data"
    }
   ],
   "source": [
    "from matplotlib.ticker import ScalarFormatter\n",
    "fig, axs = auto_subplots(len(hedge_types),figsize=(12,8))\n",
    "bins = 1000\n",
    "\n",
    "for i,ax in enumerate(axs):\n",
    "    ax.hist(costs[i], bins=bins)\n",
    "    ax.axvline(BS_price,color='k',linestyle=\"--\",linewidth=2)\n",
    "    \n",
    "    max_loss = np.amax(costs[i])\n",
    "    ax.set_title(hedge_types[i]+\", max loss: {:.2f}\".format(max_loss),fontsize=18)\n",
    "    if i==1 or i==3:\n",
    "        ax.set_xscale(\"log\")\n",
    "        ax.xaxis.set_major_formatter(ScalarFormatter())\n",
    "# ax2.axvline(BS_price,color='k',linestyle=\"--\",linewidth=2)\n",
    "# ax2.xaxis.set_ticks([0.0,0.05,0.1,0.5,1.0,2,5,10])\n",
    "# ax2.set_xticks([0.0,0.05,0.1,0.5,1.0,2.0]) \n",
    "# ax2.set_xticklabels([0.0,0.05,0.1,0.5,1.0,2.0], fontsize=12)\n"
   ]
  },
  {
   "cell_type": "markdown",
   "id": "55a69d26",
   "metadata": {},
   "source": [
    "## large variance"
   ]
  },
  {
   "cell_type": "code",
   "execution_count": 40,
   "id": "050a4f13",
   "metadata": {},
   "outputs": [
    {
     "name": "stdout",
     "output_type": "stream",
     "text": [
      "Black-Scholes Price:  8.395816815604057\n"
     ]
    }
   ],
   "source": [
    "S = 50\n",
    "K = 50\n",
    "tau = 20./52.\n",
    "sigma = 0.65\n",
    "r = 0.05\n",
    "d_plus = (1/(sigma*np.sqrt(tau)))*( np.log(S/K) + (r + sigma*sigma/2)*tau )\n",
    "d_minus = d_plus - sigma*np.sqrt(tau)\n",
    "BS_price = S*norm.cdf(d_plus) - K*np.exp(-r*tau)*norm.cdf(d_minus)\n",
    "print(\"Black-Scholes Price: \", BS_price)"
   ]
  },
  {
   "cell_type": "code",
   "execution_count": 41,
   "id": "274e2274",
   "metadata": {},
   "outputs": [
    {
     "name": "stdout",
     "output_type": "stream",
     "text": [
      "Averages:  [ 8.57481015 16.38883052  8.43483701 15.62298656]\n",
      "Variances:  [  2.34530316 468.43108226  41.61854422 342.85501055]\n"
     ]
    }
   ],
   "source": [
    "hedge_types = [\"long call\",\"mixed-theta\",\"mixed-invT\",\"mixed-constant\"]\n",
    "costs = [[] for _ in range(len(hedge_types))]\n",
    "for i in range(10000):\n",
    "    Scur = 50\n",
    "    strike_price = 50\n",
    "    rfRate = 0.05\n",
    "    sigma = 0.65\n",
    "    T = 20./52.\n",
    "    dt = 1./52.\n",
    "    mu = 0.\n",
    "    stock_args = (dt, T, Scur, mu, sigma, strike_price)\n",
    "\n",
    "    my_delta_hedge = delta_hedge_process(hedge_types, rfRate, stock_args)\n",
    "\n",
    "    S, cost, cumul_cost, shares, cumul_shares, interest = my_delta_hedge.process_to_maturity()\n",
    "    final_prices = my_delta_hedge.FINAL_PRICE\n",
    "    for i,price in enumerate(final_prices):\n",
    "        costs[i].append(price)\n",
    "    \n",
    "# traditional_cost = np.array(traditional_cost)\n",
    "# my_cost = np.array(my_cost)\n",
    "costs = np.array(costs)\n",
    "\n",
    "print(\"Averages: \",np.mean(costs,axis=1))\n",
    "print(\"Variances: \",np.var(costs,axis=1))"
   ]
  },
  {
   "cell_type": "code",
   "execution_count": 43,
   "id": "040bb2d3",
   "metadata": {},
   "outputs": [
    {
     "data": {
      "image/png": "[encoded data removed]",
      "text/plain": [
       "<Figure size 864x576 with 4 Axes>"
      ]
     },
     "metadata": {
      "needs_background": "light"
     },
     "output_type": "display_data"
    }
   ],
   "source": [
    "from matplotlib.ticker import ScalarFormatter\n",
    "fig, axs = auto_subplots(len(hedge_types),figsize=(12,8))\n",
    "bins = 1000\n",
    "\n",
    "for i,ax in enumerate(axs):\n",
    "    ax.hist(costs[i], bins=bins)\n",
    "    ax.axvline(BS_price,color='k',linestyle=\"--\",linewidth=2)\n",
    "    \n",
    "    max_loss = np.amax(costs[i])\n",
    "    ax.set_title(hedge_types[i]+\", max loss: {:.2f}\".format(max_loss),fontsize=18)\n",
    "    if i==1 or i==3:\n",
    "        ax.set_xscale(\"log\")\n",
    "        ax.xaxis.set_major_formatter(ScalarFormatter())\n",
    "# ax2.axvline(BS_price,color='k',linestyle=\"--\",linewidth=2)\n",
    "# ax2.xaxis.set_ticks([0.0,0.05,0.1,0.5,1.0,2,5,10])\n",
    "# ax2.set_xticks([0.0,0.05,0.1,0.5,1.0,2.0]) \n",
    "# ax2.set_xticklabels([0.0,0.05,0.1,0.5,1.0,2.0], fontsize=12)\n"
   ]
  },
  {
   "cell_type": "markdown",
   "id": "3956138f",
   "metadata": {},
   "source": [
    "## small variance, lower start price"
   ]
  },
  {
   "cell_type": "code",
   "execution_count": 44,
   "id": "bf3a92b5",
   "metadata": {},
   "outputs": [
    {
     "name": "stdout",
     "output_type": "stream",
     "text": [
      "Black-Scholes Price:  0.5829072848018519\n"
     ]
    }
   ],
   "source": [
    "S = 49\n",
    "K = 50\n",
    "tau = 20./52.\n",
    "sigma = 0.05\n",
    "r = 0.05\n",
    "d_plus = (1/(sigma*np.sqrt(tau)))*( np.log(S/K) + (r + sigma*sigma/2)*tau )\n",
    "d_minus = d_plus - sigma*np.sqrt(tau)\n",
    "BS_price = S*norm.cdf(d_plus) - K*np.exp(-r*tau)*norm.cdf(d_minus)\n",
    "print(\"Black-Scholes Price: \", BS_price)"
   ]
  },
  {
   "cell_type": "code",
   "execution_count": 45,
   "id": "bc4f5d79",
   "metadata": {},
   "outputs": [
    {
     "name": "stdout",
     "output_type": "stream",
     "text": [
      "Averages:  [0.60107641 0.25428103 0.58839903 1.1327454 ]\n",
      "Variances:  [1.23788050e-02 3.32799460e-01 3.17975956e-02 3.09932727e+01]\n"
     ]
    }
   ],
   "source": [
    "hedge_types = [\"long call\",\"mixed-theta\",\"mixed-invT\",\"mixed-constant\"]\n",
    "costs = [[] for _ in range(len(hedge_types))]\n",
    "for i in range(10000):\n",
    "    Scur = 49\n",
    "    strike_price = 50\n",
    "    rfRate = 0.05\n",
    "    sigma = 0.05\n",
    "    T = 20./52.\n",
    "    dt = 1./52.\n",
    "    mu = 0.\n",
    "    stock_args = (dt, T, Scur, mu, sigma, strike_price)\n",
    "\n",
    "    my_delta_hedge = delta_hedge_process(hedge_types, rfRate, stock_args)\n",
    "\n",
    "    S, cost, cumul_cost, shares, cumul_shares, interest = my_delta_hedge.process_to_maturity()\n",
    "    final_prices = my_delta_hedge.FINAL_PRICE\n",
    "    for i,price in enumerate(final_prices):\n",
    "        costs[i].append(price)\n",
    "    \n",
    "# traditional_cost = np.array(traditional_cost)\n",
    "# my_cost = np.array(my_cost)\n",
    "costs = np.array(costs)\n",
    "\n",
    "print(\"Averages: \",np.mean(costs,axis=1))\n",
    "print(\"Variances: \",np.var(costs,axis=1))"
   ]
  },
  {
   "cell_type": "code",
   "execution_count": 46,
   "id": "743fc58c",
   "metadata": {},
   "outputs": [
    {
     "data": {
      "image/png": "[encoded data removed]",
      "text/plain": [
       "<Figure size 864x576 with 4 Axes>"
      ]
     },
     "metadata": {
      "needs_background": "light"
     },
     "output_type": "display_data"
    }
   ],
   "source": [
    "from matplotlib.ticker import ScalarFormatter\n",
    "fig, axs = auto_subplots(len(hedge_types),figsize=(12,8))\n",
    "bins = 1000\n",
    "\n",
    "for i,ax in enumerate(axs):\n",
    "    ax.hist(costs[i], bins=bins)\n",
    "    ax.axvline(BS_price,color='k',linestyle=\"--\",linewidth=2)\n",
    "    \n",
    "    max_loss = np.amax(costs[i])\n",
    "    ax.set_title(hedge_types[i]+\", max loss: {:.2f}\".format(max_loss),fontsize=18)\n",
    "    if i==1 or i==3:\n",
    "        ax.set_xscale(\"log\")\n",
    "        ax.xaxis.set_major_formatter(ScalarFormatter())\n",
    "# ax2.axvline(BS_price,color='k',linestyle=\"--\",linewidth=2)\n",
    "# ax2.xaxis.set_ticks([0.0,0.05,0.1,0.5,1.0,2,5,10])\n",
    "# ax2.set_xticks([0.0,0.05,0.1,0.5,1.0,2.0]) \n",
    "# ax2.set_xticklabels([0.0,0.05,0.1,0.5,1.0,2.0], fontsize=12)\n"
   ]
  },
  {
   "cell_type": "markdown",
   "id": "02b8d170",
   "metadata": {},
   "source": [
    "## small variance, higher start price"
   ]
  },
  {
   "cell_type": "code",
   "execution_count": 47,
   "id": "57f18282",
   "metadata": {},
   "outputs": [
    {
     "name": "stdout",
     "output_type": "stream",
     "text": [
      "Black-Scholes Price:  2.029370376192851\n"
     ]
    }
   ],
   "source": [
    "S = 51\n",
    "K = 50\n",
    "tau = 20./52.\n",
    "sigma = 0.05\n",
    "r = 0.05\n",
    "d_plus = (1/(sigma*np.sqrt(tau)))*( np.log(S/K) + (r + sigma*sigma/2)*tau )\n",
    "d_minus = d_plus - sigma*np.sqrt(tau)\n",
    "BS_price = S*norm.cdf(d_plus) - K*np.exp(-r*tau)*norm.cdf(d_minus)\n",
    "print(\"Black-Scholes Price: \", BS_price)"
   ]
  },
  {
   "cell_type": "code",
   "execution_count": 50,
   "id": "5b0134b5",
   "metadata": {},
   "outputs": [
    {
     "name": "stdout",
     "output_type": "stream",
     "text": [
      "Averages:  [ 2.07070161  1.27786476  2.05826617 10.27169443]\n",
      "Variances:  [8.72750162e-03 1.44806973e+00 2.83254054e-02 3.00818676e+02]\n"
     ]
    }
   ],
   "source": [
    "hedge_types = [\"long call\",\"mixed-theta\",\"mixed-invT\",\"mixed-constant\"]\n",
    "costs = [[] for _ in range(len(hedge_types))]\n",
    "for i in range(10000):\n",
    "    Scur = 51\n",
    "    strike_price = 50\n",
    "    rfRate = 0.05\n",
    "    sigma = 0.05\n",
    "    T = 20./52.\n",
    "    dt = 1./52.\n",
    "    mu = 0.\n",
    "    stock_args = (dt, T, Scur, mu, sigma, strike_price)\n",
    "\n",
    "    my_delta_hedge = delta_hedge_process(hedge_types, rfRate, stock_args)\n",
    "\n",
    "    S, cost, cumul_cost, shares, cumul_shares, interest = my_delta_hedge.process_to_maturity()\n",
    "    final_prices = my_delta_hedge.FINAL_PRICE\n",
    "   \n",
    "    for i,price in enumerate(final_prices):\n",
    "        costs[i].append(price)\n",
    "    \n",
    "# traditional_cost = np.array(traditional_cost)\n",
    "# my_cost = np.array(my_cost)\n",
    "costs = np.array(costs)\n",
    "\n",
    "print(\"Averages: \",np.mean(costs,axis=1))\n",
    "print(\"Variances: \",np.var(costs,axis=1))"
   ]
  },
  {
   "cell_type": "code",
   "execution_count": 51,
   "id": "d393fb10",
   "metadata": {},
   "outputs": [
    {
     "data": {
      "image/png": "[encoded data removed]",
      "text/plain": [
       "<Figure size 864x576 with 4 Axes>"
      ]
     },
     "metadata": {
      "needs_background": "light"
     },
     "output_type": "display_data"
    }
   ],
   "source": [
    "from matplotlib.ticker import ScalarFormatter\n",
    "fig, axs = auto_subplots(len(hedge_types),figsize=(12,8))\n",
    "bins = 1000\n",
    "\n",
    "for i,ax in enumerate(axs):\n",
    "    ax.hist(costs[i], bins=bins)\n",
    "    ax.axvline(BS_price,color='k',linestyle=\"--\",linewidth=2)\n",
    "    \n",
    "    max_loss = np.amax(costs[i])\n",
    "    ax.set_title(hedge_types[i]+\", max loss: {:.2f}\".format(max_loss),fontsize=18)\n",
    "    if i==1 or i==3:\n",
    "        ax.set_xscale(\"log\")\n",
    "        ax.xaxis.set_major_formatter(ScalarFormatter())\n",
    "# ax2.axvline(BS_price,color='k',linestyle=\"--\",linewidth=2)\n",
    "# ax2.xaxis.set_ticks([0.0,0.05,0.1,0.5,1.0,2,5,10])\n",
    "# ax2.set_xticks([0.0,0.05,0.1,0.5,1.0,2.0]) \n",
    "# ax2.set_xticklabels([0.0,0.05,0.1,0.5,1.0,2.0], fontsize=12)\n"
   ]
  },
  {
   "cell_type": "markdown",
   "id": "4f4beb86",
   "metadata": {},
   "source": [
    "## high variance, lower start price"
   ]
  },
  {
   "cell_type": "code",
   "execution_count": 52,
   "id": "a778e063",
   "metadata": {},
   "outputs": [
    {
     "name": "stdout",
     "output_type": "stream",
     "text": [
      "Black-Scholes Price:  7.807092508425786\n"
     ]
    }
   ],
   "source": [
    "S = 49\n",
    "K = 50\n",
    "tau = 20./52.\n",
    "sigma = 0.65\n",
    "r = 0.05\n",
    "d_plus = (1/(sigma*np.sqrt(tau)))*( np.log(S/K) + (r + sigma*sigma/2)*tau )\n",
    "d_minus = d_plus - sigma*np.sqrt(tau)\n",
    "BS_price = S*norm.cdf(d_plus) - K*np.exp(-r*tau)*norm.cdf(d_minus)\n",
    "print(\"Black-Scholes Price: \", BS_price)"
   ]
  },
  {
   "cell_type": "code",
   "execution_count": null,
   "id": "b37c4183",
   "metadata": {},
   "outputs": [],
   "source": [
    "hedge_types = [\"long call\",\"mixed-theta\",\"mixed-invT\",\"mixed-constant\"]\n",
    "costs = [[] for _ in range(len(hedge_types))]\n",
    "for i in range(10000):\n",
    "    Scur = 49\n",
    "    strike_price = 50\n",
    "    rfRate = 0.05\n",
    "    sigma = 0.65\n",
    "    T = 20./52.\n",
    "    dt = 1./52.\n",
    "    mu = 0.\n",
    "    stock_args = (dt, T, Scur, mu, sigma, strike_price)\n",
    "\n",
    "    my_delta_hedge = delta_hedge_process(hedge_types, rfRate, stock_args)\n",
    "\n",
    "    S, cost, cumul_cost, shares, cumul_shares, interest = my_delta_hedge.process_to_maturity()\n",
    "    final_prices = my_delta_hedge.FINAL_PRICE\n",
    "\n",
    "    for i,price in enumerate(final_prices):\n",
    "        costs[i].append(price)\n",
    "    \n",
    "# traditional_cost = np.array(traditional_cost)\n",
    "# my_cost = np.array(my_cost)\n",
    "costs = np.array(costs)\n",
    "\n",
    "print(\"Averages: \",np.mean(costs,axis=1))\n",
    "print(\"Variances: \",np.var(costs,axis=1))"
   ]
  },
  {
   "cell_type": "code",
   "execution_count": null,
   "id": "2d0a202e",
   "metadata": {},
   "outputs": [],
   "source": [
    "from matplotlib.ticker import ScalarFormatter\n",
    "fig, axs = auto_subplots(len(hedge_types),figsize=(12,8))\n",
    "bins = 1000\n",
    "\n",
    "for i,ax in enumerate(axs):\n",
    "    ax.hist(costs[i], bins=bins)\n",
    "    ax.axvline(BS_price,color='k',linestyle=\"--\",linewidth=2)\n",
    "    \n",
    "    max_loss = np.amax(costs[i])\n",
    "    ax.set_title(hedge_types[i]+\", max loss: {:.2f}\".format(max_loss),fontsize=18)\n",
    "    if i==1 or i==3:\n",
    "        ax.set_xscale(\"log\")\n",
    "        ax.xaxis.set_major_formatter(ScalarFormatter())\n",
    "# ax2.axvline(BS_price,color='k',linestyle=\"--\",linewidth=2)\n",
    "# ax2.xaxis.set_ticks([0.0,0.05,0.1,0.5,1.0,2,5,10])\n",
    "# ax2.set_xticks([0.0,0.05,0.1,0.5,1.0,2.0]) \n",
    "# ax2.set_xticklabels([0.0,0.05,0.1,0.5,1.0,2.0], fontsize=12)\n"
   ]
  },
  {
   "cell_type": "markdown",
   "id": "86e08eaa",
   "metadata": {},
   "source": [
    "## high variance, higher start price"
   ]
  },
  {
   "cell_type": "code",
   "execution_count": null,
   "id": "1ea7cf7d",
   "metadata": {},
   "outputs": [],
   "source": [
    "S = 51\n",
    "K = 50\n",
    "tau = 20./52.\n",
    "sigma = 0.65\n",
    "r = 0.05\n",
    "d_plus = (1/(sigma*np.sqrt(tau)))*( np.log(S/K) + (r + sigma*sigma/2)*tau )\n",
    "d_minus = d_plus - sigma*np.sqrt(tau)\n",
    "BS_price = S*norm.cdf(d_plus) - K*np.exp(-r*tau)*norm.cdf(d_minus)\n",
    "print(\"Black-Scholes Price: \", BS_price)"
   ]
  },
  {
   "cell_type": "code",
   "execution_count": null,
   "id": "7bdb3da7",
   "metadata": {},
   "outputs": [],
   "source": [
    "hedge_types = [\"long call\",\"mixed-theta\",\"mixed-invT\",\"mixed-constant\"]\n",
    "costs = [[] for _ in range(len(hedge_types))]\n",
    "for i in range(10000):\n",
    "    Scur = \n",
    "    strike_price = 50\n",
    "    rfRate = 0.05\n",
    "    sigma = 0.65\n",
    "    T = 20./52.\n",
    "    dt = 1./52.\n",
    "    mu = 0.\n",
    "    stock_args = (dt, T, Scur, mu, sigma, strike_price)\n",
    "\n",
    "    my_delta_hedge = delta_hedge_process(hedge_types, rfRate, stock_args)\n",
    "\n",
    "    S, cost, cumul_cost, shares, cumul_shares, interest = my_delta_hedge.process_to_maturity()\n",
    "    final_prices = my_delta_hedge.FINAL_PRICE\n",
    "    for i,price in enumerate(final_prices):\n",
    "        costs[i].append(price)\n",
    "    \n",
    "# traditional_cost = np.array(traditional_cost)\n",
    "# my_cost = np.array(my_cost)\n",
    "costs = np.array(costs)\n",
    "\n",
    "print(\"Averages: \",np.mean(costs,axis=1))\n",
    "print(\"Variances: \",np.var(costs,axis=1))"
   ]
  },
  {
   "cell_type": "code",
   "execution_count": null,
   "id": "b56bd1d1",
   "metadata": {},
   "outputs": [],
   "source": [
    "from matplotlib.ticker import ScalarFormatter\n",
    "fig, (ax1,ax2) = plt.subplots(2,1,figsize=(12,8))\n",
    "bins = 500\n",
    "\n",
    "\n",
    "ax1.hist(traditional_cost, bins=bins)\n",
    "ax1.axvline(BS_price,color='k',linestyle=\"--\",linewidth=2)\n",
    "ax2.hist(my_cost, bins=bins)\n",
    "ax2.axvline(BS_price,color='k',linestyle=\"--\",linewidth=2)\n",
    "# ax2.set_xscale(\"log\")\n",
    "# ax2.xaxis.set_major_formatter(ScalarFormatter())\n",
    "# ax2.xaxis.set_ticks([0.0,0.05,0.1,0.5,1.0,2,5,10])\n",
    "# ax2.set_xticks([0.0,0.05,0.1,0.5,1.0,2.0]) \n",
    "# ax2.set_xticklabels([0.0,0.05,0.1,0.5,1.0,2.0], fontsize=12)\n"
   ]
  },
  {
   "cell_type": "code",
   "execution_count": null,
   "id": "190b9dd2",
   "metadata": {},
   "outputs": [],
   "source": [
    "counts1, bins1 = np.histogram(traditional_cost, bins)\n",
    "counts2, bins2 = np.histogram(my_cost, bins)\n"
   ]
  },
  {
   "cell_type": "code",
   "execution_count": null,
   "id": "5e1c8eb7",
   "metadata": {},
   "outputs": [],
   "source": [
    "np.amax(traditional_cost)"
   ]
  },
  {
   "cell_type": "code",
   "execution_count": null,
   "id": "85f0ec7d",
   "metadata": {},
   "outputs": [],
   "source": [
    "bins1[-1]"
   ]
  },
  {
   "cell_type": "code",
   "execution_count": null,
   "id": "0aea4a21",
   "metadata": {},
   "outputs": [],
   "source": [
    "def integrate_0_to(X,counts,bins):\n",
    "    if X>=bins[-1]:\n",
    "        return 1\n",
    "    integral = 0\n",
    "    B = bins[0]\n",
    "    i = 0\n",
    "    while X > B:\n",
    "        integral += counts[i]\n",
    "        i += 1\n",
    "        B = bins[i]\n",
    "    integral += counts[i]\n",
    "    integral /= np.sum(counts)\n",
    "    return integral"
   ]
  },
  {
   "cell_type": "code",
   "execution_count": null,
   "id": "192da0c9",
   "metadata": {},
   "outputs": [],
   "source": [
    "def integrate_from(a,b,counts,bins):\n",
    "    if b>bins[-1]:\n",
    "        b = bins[-1]\n",
    "    if (b-a)>=bins[-1]:\n",
    "        return 1\n",
    "    integral = 0\n",
    "    B = bins[0]\n",
    "    i = 0\n",
    "    while a > B and i < len(bins):\n",
    "        i += 1\n",
    "        B = bins[i]\n",
    "    while b >= B and i < len(counts-1):\n",
    "        integral += counts[i]\n",
    "        i += 1\n",
    "        B = bins[i]\n",
    "#     integral += counts[i]\n",
    "    integral /= np.sum(counts)\n",
    "    return integral"
   ]
  },
  {
   "cell_type": "code",
   "execution_count": null,
   "id": "41880b65",
   "metadata": {},
   "outputs": [],
   "source": [
    "int1 = integrate_0_to(4.5,counts1,bins1)\n",
    "print(int1)"
   ]
  },
  {
   "cell_type": "code",
   "execution_count": null,
   "id": "43084216",
   "metadata": {},
   "outputs": [],
   "source": [
    "int2 = integrate_0_to(4.5,counts2,bins2)\n",
    "print(int2)"
   ]
  },
  {
   "cell_type": "code",
   "execution_count": null,
   "id": "883a2886",
   "metadata": {},
   "outputs": [],
   "source": [
    "delta = BS_price*0.1"
   ]
  },
  {
   "cell_type": "code",
   "execution_count": null,
   "id": "7ead7f6c",
   "metadata": {},
   "outputs": [],
   "source": [
    "int1 = integrate_from(0,BS_price*1.5,counts1,bins1)\n",
    "print(int1)"
   ]
  },
  {
   "cell_type": "code",
   "execution_count": null,
   "id": "3abd3386",
   "metadata": {},
   "outputs": [],
   "source": [
    "int2 = integrate_from(0,BS_price*1.5,counts2,bins2)\n",
    "print(int2)"
   ]
  },
  {
   "cell_type": "code",
   "execution_count": null,
   "id": "8d53da0c",
   "metadata": {},
   "outputs": [],
   "source": [
    "BS_price"
   ]
  },
  {
   "cell_type": "markdown",
   "id": "6f02e703",
   "metadata": {},
   "source": [
    "## More rebalancing"
   ]
  },
  {
   "cell_type": "code",
   "execution_count": null,
   "id": "b405c6fc",
   "metadata": {},
   "outputs": [],
   "source": [
    "S = 49\n",
    "K = 50\n",
    "tau = 20./52.\n",
    "sigma = 0.5\n",
    "r = 0.05\n",
    "d_plus = (1/(sigma*np.sqrt(tau)))*( np.log(S/K) + (r + sigma*sigma/2)*tau )\n",
    "d_minus = d_plus - sigma*np.sqrt(tau)\n",
    "BS_price = S*norm.cdf(d_plus) - K*np.exp(-r*tau)*norm.cdf(d_minus)\n",
    "print(\"Black-Scholes Price: \", BS_price)"
   ]
  },
  {
   "cell_type": "code",
   "execution_count": null,
   "id": "01198afe",
   "metadata": {},
   "outputs": [],
   "source": [
    "traditional_cost = []\n",
    "my_cost = []\n",
    "for i in range(10000):\n",
    "    Scur = 49\n",
    "    strike_price = 50\n",
    "    rfRate = 0.05\n",
    "    sigma = 0.5\n",
    "    T = 20./52.\n",
    "    dt = (1./52.)*0.25\n",
    "    mu = 0.\n",
    "    stock_args = (dt, T, Scur, mu, sigma, strike_price)\n",
    "\n",
    "    hedge_types = [\"long call\",\"new long call\"]\n",
    "    my_delta_hedge = delta_hedge_process(hedge_types, rfRate, stock_args)\n",
    "\n",
    "    S, cost, cumul_cost, shares, cumul_shares, interest = my_delta_hedge.process_to_maturity()\n",
    "    final_prices = my_delta_hedge.FINAL_PRICE\n",
    "    traditional_cost.append(final_prices[0])\n",
    "    my_cost.append(final_prices[1])\n",
    "    \n",
    "traditional_cost = np.array(traditional_cost)\n",
    "my_cost = np.array(my_cost)\n",
    "\n",
    "print(\"Avereage traditional: \",np.mean(traditional_cost),\", Average of mine: \", np.mean(my_cost))\n",
    "print(\"Variance traditional: \",np.var(traditional_cost),\", Variance of mine: \", np.var(my_cost))"
   ]
  },
  {
   "cell_type": "code",
   "execution_count": null,
   "id": "d3dc3097",
   "metadata": {},
   "outputs": [],
   "source": [
    "from matplotlib.ticker import ScalarFormatter\n",
    "fig, (ax1,ax2) = plt.subplots(2,1,figsize=(12,8))\n",
    "bins = 500\n",
    "\n",
    "\n",
    "ax1.hist(traditional_cost, bins=bins)\n",
    "ax1.axvline(BS_price,color='k',linestyle=\"--\",linewidth=2)\n",
    "ax2.hist(my_cost, bins=bins)\n",
    "ax2.axvline(BS_price,color='k',linestyle=\"--\",linewidth=2)\n",
    "ax2.set_xscale(\"log\")\n",
    "ax2.xaxis.set_major_formatter(ScalarFormatter())\n",
    "# ax2.xaxis.set_ticks([0.0,0.05,0.1,0.5,1.0,2,5,10])\n",
    "# ax2.set_xticks([0.0,0.05,0.1,0.5,1.0,2.0]) \n",
    "# ax2.set_xticklabels([0.0,0.05,0.1,0.5,1.0,2.0], fontsize=12)\n"
   ]
  },
  {
   "cell_type": "markdown",
   "id": "895656eb",
   "metadata": {},
   "source": [
    "## Less rebalancing"
   ]
  },
  {
   "cell_type": "code",
   "execution_count": null,
   "id": "57999bef",
   "metadata": {},
   "outputs": [],
   "source": [
    "S = 49\n",
    "K = 50\n",
    "tau = 20./52.\n",
    "sigma = 0.5\n",
    "r = 0.05\n",
    "d_plus = (1/(sigma*np.sqrt(tau)))*( np.log(S/K) + (r + sigma*sigma/2)*tau )\n",
    "d_minus = d_plus - sigma*np.sqrt(tau)\n",
    "BS_price = S*norm.cdf(d_plus) - K*np.exp(-r*tau)*norm.cdf(d_minus)\n",
    "print(\"Black-Scholes Price: \", BS_price)"
   ]
  },
  {
   "cell_type": "code",
   "execution_count": null,
   "id": "ca0e749c",
   "metadata": {},
   "outputs": [],
   "source": [
    "traditional_cost = []\n",
    "my_cost = []\n",
    "for i in range(10000):\n",
    "    Scur = 49\n",
    "    strike_price = 50\n",
    "    rfRate = 0.5\n",
    "    sigma = 0.5\n",
    "    T = 20./52.\n",
    "    dt = (1./52.)*2\n",
    "    mu = 0.\n",
    "    stock_args = (dt, T, Scur, mu, sigma, strike_price)\n",
    "\n",
    "    hedge_types = [\"long call\",\"new long call\"]\n",
    "    my_delta_hedge = delta_hedge_process(hedge_types, rfRate, stock_args)\n",
    "\n",
    "    S, cost, cumul_cost, shares, cumul_shares, interest = my_delta_hedge.process_to_maturity()\n",
    "    final_prices = my_delta_hedge.FINAL_PRICE\n",
    "    traditional_cost.append(final_prices[0])\n",
    "    my_cost.append(final_prices[1])\n",
    "    \n",
    "traditional_cost = np.array(traditional_cost)\n",
    "my_cost = np.array(my_cost)\n",
    "\n",
    "print(\"Avereage traditional: \",np.mean(traditional_cost),\", Average of mine: \", np.mean(my_cost))\n",
    "print(\"Variance traditional: \",np.var(traditional_cost),\", Variance of mine: \", np.var(my_cost))"
   ]
  },
  {
   "cell_type": "code",
   "execution_count": null,
   "id": "89a8cca2",
   "metadata": {},
   "outputs": [],
   "source": [
    "from matplotlib.ticker import ScalarFormatter\n",
    "fig, (ax1,ax2) = plt.subplots(2,1,figsize=(12,8))\n",
    "bins = 500\n",
    "\n",
    "\n",
    "ax1.hist(traditional_cost, bins=bins)\n",
    "ax1.axvline(BS_price,color='k',linestyle=\"--\",linewidth=2)\n",
    "ax2.hist(my_cost, bins=bins)\n",
    "ax2.axvline(BS_price,color='k',linestyle=\"--\",linewidth=2)\n",
    "ax2.set_xscale(\"log\")\n",
    "ax2.xaxis.set_major_formatter(ScalarFormatter())\n",
    "# ax2.xaxis.set_ticks([0.0,0.05,0.1,0.5,1.0,2,5,10])\n",
    "# ax2.set_xticks([0.0,0.05,0.1,0.5,1.0,2.0]) \n",
    "# ax2.set_xticklabels([0.0,0.05,0.1,0.5,1.0,2.0], fontsize=12)\n"
   ]
  },
  {
   "cell_type": "markdown",
   "id": "9b3e6009",
   "metadata": {},
   "source": [
    "## Deep out-of-the-money and high volatility"
   ]
  },
  {
   "cell_type": "code",
   "execution_count": null,
   "id": "3ab0c59f",
   "metadata": {},
   "outputs": [],
   "source": [
    "S = 10\n",
    "K = 50\n",
    "tau = 20./52.\n",
    "sigma = 1\n",
    "r = 0.05\n",
    "d_plus = (1/(sigma*np.sqrt(tau)))*( np.log(S/K) + (r + sigma*sigma/2)*tau )\n",
    "d_minus = d_plus - sigma*np.sqrt(tau)\n",
    "BS_price = S*norm.cdf(d_plus) - K*np.exp(-r*tau)*norm.cdf(d_minus)\n",
    "print(\"Black-Scholes Price: \", BS_price)"
   ]
  },
  {
   "cell_type": "code",
   "execution_count": null,
   "id": "5f8a76a6",
   "metadata": {},
   "outputs": [],
   "source": [
    "traditional_cost = []\n",
    "my_cost = []\n",
    "for i in range(10000):\n",
    "    Scur = 10\n",
    "    strike_price = 50\n",
    "    rfRate = 0.05\n",
    "    sigma = 1\n",
    "    T = 20./52.\n",
    "    dt = (1./52.)*.25\n",
    "    mu = 0.\n",
    "    stock_args = (dt, T, Scur, mu, sigma, strike_price)\n",
    "\n",
    "    hedge_types = [\"long call\",\"new long call\"]\n",
    "    my_delta_hedge = delta_hedge_process(hedge_types, rfRate, stock_args)\n",
    "\n",
    "    S, cost, cumul_cost, shares, cumul_shares, interest = my_delta_hedge.process_to_maturity()\n",
    "    final_prices = my_delta_hedge.FINAL_PRICE\n",
    "    traditional_cost.append(final_prices[0])\n",
    "    my_cost.append(final_prices[1])\n",
    "    \n",
    "traditional_cost = np.array(traditional_cost)\n",
    "my_cost = np.array(my_cost)\n",
    "\n",
    "print(\"Avereage traditional: \",np.mean(traditional_cost),\", Average of mine: \", np.mean(my_cost))\n",
    "print(\"Variance traditional: \",np.var(traditional_cost),\", Variance of mine: \", np.var(my_cost))"
   ]
  },
  {
   "cell_type": "code",
   "execution_count": null,
   "id": "249a0a74",
   "metadata": {},
   "outputs": [],
   "source": [
    "from matplotlib.ticker import ScalarFormatter\n",
    "fig, (ax1,ax2) = plt.subplots(2,1,figsize=(12,8))\n",
    "bins = 500\n",
    "\n",
    "\n",
    "ax1.hist(traditional_cost, bins=bins)\n",
    "ax1.axvline(BS_price,color='k',linestyle=\"--\",linewidth=2)\n",
    "ax2.hist(my_cost, bins=bins)\n",
    "ax2.axvline(BS_price,color='k',linestyle=\"--\",linewidth=2)\n",
    "ax2.set_xscale(\"log\")\n",
    "ax2.xaxis.set_major_formatter(ScalarFormatter())\n",
    "# ax2.xaxis.set_ticks([0.0,0.05,0.1,0.5,1.0,2,5,10])\"\n",
    "# ax2.set_xticks([0.0,0.05,0.1,0.5,1.0,2.0]) \n",
    "# ax2.set_xticklabels([0.0,0.05,0.1,0.5,1.0,2.0], fontsize=12)\n"
   ]
  },
  {
   "cell_type": "markdown",
   "id": "5a47f731",
   "metadata": {},
   "source": [
    "## Deep in-the-money"
   ]
  },
  {
   "cell_type": "code",
   "execution_count": null,
   "id": "e5897067",
   "metadata": {},
   "outputs": [],
   "source": [
    "S = 90\n",
    "K = 50\n",
    "tau = 20./52.\n",
    "sigma = 0.1\n",
    "r = 0.05\n",
    "d_plus = (1/(sigma*np.sqrt(tau)))*( np.log(S/K) + (r + sigma*sigma/2)*tau )\n",
    "d_minus = d_plus - sigma*np.sqrt(tau)\n",
    "BS_price = S*norm.cdf(d_plus) - K*np.exp(-r*tau)*norm.cdf(d_minus)\n",
    "print(\"Black-Scholes Price: \", BS_price)"
   ]
  },
  {
   "cell_type": "code",
   "execution_count": null,
   "id": "4aeeb70f",
   "metadata": {},
   "outputs": [],
   "source": [
    "traditional_cost = []\n",
    "my_cost = []\n",
    "for i in range(10000):\n",
    "    Scur = 90\n",
    "    strike_price = 50\n",
    "    rfRate = 0.05\n",
    "    sigma = 0.1\n",
    "    T = 20./52.\n",
    "    dt = (1./52.)*2\n",
    "    mu = 0.\n",
    "    stock_args = (dt, T, Scur, mu, sigma, strike_price)\n",
    "\n",
    "    hedge_types = [\"long call\",\"new long call\"]\n",
    "    my_delta_hedge = delta_hedge_process(hedge_types, rfRate, stock_args)\n",
    "\n",
    "    S, cost, cumul_cost, shares, cumul_shares, interest = my_delta_hedge.process_to_maturity()\n",
    "    final_prices = my_delta_hedge.FINAL_PRICE\n",
    "    traditional_cost.append(final_prices[0])\n",
    "    my_cost.append(final_prices[1])\n",
    "    \n",
    "traditional_cost = np.array(traditional_cost)\n",
    "my_cost = np.array(my_cost)\n",
    "\n",
    "print(\"Avereage traditional: \",np.mean(traditional_cost),\", Average of mine: \", np.mean(my_cost))\n",
    "print(\"Variance traditional: \",np.var(traditional_cost),\", Variance of mine: \", np.var(my_cost))"
   ]
  },
  {
   "cell_type": "code",
   "execution_count": null,
   "id": "aa540beb",
   "metadata": {},
   "outputs": [],
   "source": [
    "from matplotlib.ticker import ScalarFormatter\n",
    "fig, (ax1,ax2) = plt.subplots(2,1,figsize=(12,8))\n",
    "bins = 500\n",
    "\n",
    "\n",
    "ax1.hist(traditional_cost, bins=bins)\n",
    "ax1.axvline(BS_price,color='k',linestyle=\"--\",linewidth=2)\n",
    "ax2.hist(my_cost, bins=bins)\n",
    "ax2.axvline(BS_price,color='k',linestyle=\"--\",linewidth=2)\n",
    "# ax2.set_xscale(\"log\")\n",
    "# ax2.xaxis.set_major_formatter(ScalarFormatter())\n",
    "# ax2.xaxis.set_ticks([0.0,0.05,0.1,0.5,1.0,2,5,10])\"\n",
    "# ax2.set_xticks([0.0,0.05,0.1,0.5,1.0,2.0]) \n",
    "# ax2.set_xticklabels([0.0,0.05,0.1,0.5,1.0,2.0], fontsize=12)\n"
   ]
  },
  {
   "cell_type": "code",
   "execution_count": null,
   "id": "7ba6d24c",
   "metadata": {},
   "outputs": [],
   "source": []
  }
 ],
 "metadata": {
  "kernelspec": {
   "display_name": "Python 3 (ipykernel)",
   "language": "python",
   "name": "python3"
  },
  "language_info": {
   "codemirror_mode": {
    "name": "ipython",
    "version": 3
   },
   "file_extension": ".py",
   "mimetype": "text/x-python",
   "name": "python",
   "nbconvert_exporter": "python",
   "pygments_lexer": "ipython3",
   "version": "3.8.10"
  }
 },
 "nbformat": 4,
 "nbformat_minor": 5
}
