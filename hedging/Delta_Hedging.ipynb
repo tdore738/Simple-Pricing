{
 "cells": [
  {
   "cell_type": "code",
   "execution_count": 1,
   "id": "c9cfa95f",
   "metadata": {},
   "outputs": [],
   "source": [
    "import numpy as np\n",
    "from matplotlib import pyplot as plt\n",
    "from numpy import random as rand\n",
    "import sys\n",
    "from scipy.stats import norm\n",
    "import math"
   ]
  },
  {
   "cell_type": "markdown",
   "id": "00943e9e",
   "metadata": {},
   "source": [
    "# Stocks and Hedges"
   ]
  },
  {
   "cell_type": "code",
   "execution_count": 292,
   "id": "06b5c715",
   "metadata": {},
   "outputs": [],
   "source": [
    "class stock:\n",
    "    def __init__(self, dt, T, Scur, mu, sigma, strike_price):\n",
    "        self.mu = mu\n",
    "        self.sigma = sigma\n",
    "        self.dt = dt\n",
    "        self.N = math.ceil(T/dt)\n",
    "        self.T = self.N*dt\n",
    "        self.N += 1\n",
    "        self.Scur = Scur\n",
    "        self.Tcur = 0.0\n",
    "        self.K = strike_price\n",
    "        \n",
    "        #tests:\n",
    "#         self.counter = 0\n",
    "#         self.stock_list = [self.Scur,48.12,47.37,50.25,51.75,53.12,53.00,51.87,51.38,53.00,49.88,48.50,49.88,50.37,52.13,51.88,52.87,54.87,54.62,55.87,57.25]\n",
    "#         self.stock_list = [self.Scur,48.12,47.37,50.25,51.75,53.12,53.00,51.87,51.38,53.00,49.88,48.50,49.88,50.37,52.13,51.88,52.87,54.87,54.62,55.87,52]\n",
    "        \n",
    "    def update_mu(self,new_mu):\n",
    "        self.mu = new_mu\n",
    "    def update_sigma(self,new_sigma):\n",
    "        self.sigma = new_sigma\n",
    "        \n",
    "    def sample(self): #probably not needed\n",
    "        eps = rand.normal(0,1)\n",
    "        return Scur*(1 + self.mu*Tcur + self.sigma*eps*np.sqrt(dt))\n",
    "    def step(self):\n",
    "        eps = rand.normal(0,1)\n",
    "        self.Tcur += dt\n",
    "        self.Scur = self.Scur*(1 + self.mu*self.Tcur + self.sigma*eps*np.sqrt(dt))\n",
    "#         self.counter+=1\n",
    "#         if self.counter < self.N:\n",
    "#             self.Scur = self.stock_list[self.counter]\n",
    "# #             print(self.counter,self.Scur)\n",
    "        return self.Scur    \n",
    "        "
   ]
  },
  {
   "cell_type": "code",
   "execution_count": 288,
   "id": "ef5c6650",
   "metadata": {},
   "outputs": [],
   "source": [
    "class delta_hedge_process:\n",
    "    def long_call_hedge(self,stock):\n",
    "        S = stock.Scur\n",
    "        K = stock.K\n",
    "        tau = stock.T - stock.Tcur\n",
    "        sigma = stock.sigma\n",
    "        r = self.risk_free\n",
    "        d_plus = (1/(sigma*np.sqrt(tau)))*( np.log(S/K) + (r + sigma*sigma/2)*tau )\n",
    "        return norm.cdf(d_plus)\n",
    "    def NEW_LCH(self,stock):\n",
    "        S = stock.Scur\n",
    "        K = stock.K\n",
    "        tau = stock.T - stock.Tcur\n",
    "        sigma = stock.sigma\n",
    "        r = self.risk_free\n",
    "        d_plus = (1/(sigma*np.sqrt(tau)))*( np.log(S/K) + (r + sigma*sigma/2)*tau )\n",
    "        d_minus = d_plus - sigma*np.sqrt(tau)\n",
    "        C = S*norm.cdf(d_plus) - K*np.exp(-r*tau)*norm.cdf(d_minus)\n",
    "        return C/S\n",
    "        \n",
    "    def __init__(self, hedge_types, rfRate, stock_args, contracts=1):\n",
    "    # all functions above should have a place in this dictionary\n",
    "        self.hedge_dict = {\"long call\":self.long_call_hedge,\"new long call\":self.NEW_LCH}\n",
    "        \n",
    "    # All time should be given in units of years\n",
    "        self.risk_free = rfRate\n",
    "        self.r_eff = rfRate*dt\n",
    "        self.stock = stock(*stock_args)\n",
    "        self.num_of_contracts = contracts \n",
    "        \n",
    "        self.hedge_types = hedge_types\n",
    "        self.hedges_to_do = [self.hedge_dict[hedge] for hedge in hedge_types]\n",
    "        self.FINAL_PRICE = [0 for i in range(len(hedge_types))]\n",
    "        \n",
    "    def process_to_maturity(self):\n",
    "        num_of_hedge_types = len(self.hedges_to_do)\n",
    "        S_of_t = []\n",
    "        cost_of_t = [[] for i in range(num_of_hedge_types)]\n",
    "        cumul_cost_of_t = [[] for i in range(num_of_hedge_types)]\n",
    "        loan_of_t = [[] for i in range(num_of_hedge_types)]\n",
    "        interest_of_t = [[] for i in range(num_of_hedge_types)]\n",
    "        shares_of_t = [[] for i in range(num_of_hedge_types)]\n",
    "        cumul_shares_of_t = [[] for i in range(num_of_hedge_types)]\n",
    "        \n",
    "        shares = [0 for i in range(num_of_hedge_types)]\n",
    "        cumul_shares = [0 for i in range(num_of_hedge_types)]\n",
    "        interest = [0 for i in range(num_of_hedge_types)]\n",
    "        cost = [0 for i in range(num_of_hedge_types)]\n",
    "        cumul_cost = [0 for i in range(num_of_hedge_types)]\n",
    "        \n",
    "        for i in range(self.stock.N):\n",
    "            S = self.stock.Scur\n",
    "            S_of_t.append(S)\n",
    "            for j in range(num_of_hedge_types):\n",
    "                delta = self.hedges_to_do[j](self.stock)\n",
    "                shares[j] = delta - cumul_shares[j]\n",
    "                cumul_shares[j] += shares[j]\n",
    "                cost[j] = shares[j]*S\n",
    "                cumul_cost[j] += cost[j] + interest[j]\n",
    "                \n",
    "                if cumul_cost[j]>0.0:\n",
    "                    interest[j] = cumul_cost[j]*self.r_eff\n",
    "                    \n",
    "                shares_of_t[j].append(shares[j])\n",
    "                cumul_shares_of_t[j].append(cumul_shares[j])\n",
    "                cost_of_t[j].append(cost[j])\n",
    "                cumul_cost_of_t[j].append(cumul_cost[j])\n",
    "                interest_of_t[j].append(interest[j])\n",
    "                \n",
    "            self.stock.step()\n",
    "            \n",
    "        for j in range(num_of_hedge_types):\n",
    "#             final_sell = -S_of_t[-1]*cumul_shares_of_t[j][-1]\n",
    "#             cost_of_t[j].append(final_sell)\n",
    "#             cumul_cost_of_t[j].append(cumul_cost_of_t[j][-1]+final_sell)\n",
    "            \n",
    "            if cumul_shares_of_t[j][-1]==1:\n",
    "                self.FINAL_PRICE[j] = cumul_cost_of_t[j][-1] - self.stock.K\n",
    "            else:\n",
    "                self.FINAL_PRICE[j] = cumul_cost_of_t[j][-1]\n",
    "            \n",
    "        return S_of_t, cost_of_t, cumul_cost_of_t, shares_of_t, cumul_shares_of_t, interest_of_t"
   ]
  },
  {
   "cell_type": "markdown",
   "id": "59af0031",
   "metadata": {},
   "source": [
    "# Running:"
   ]
  },
  {
   "cell_type": "code",
   "execution_count": 295,
   "id": "d5f5b302",
   "metadata": {},
   "outputs": [],
   "source": [
    "Scur = 49\n",
    "strike_price = 50\n",
    "rfRate = 0.05\n",
    "sigma = 0.05\n",
    "T = 20./52.\n",
    "dt = 1./52.\n",
    "mu = 0.\n",
    "stock_args = (dt, T, Scur, mu, sigma, strike_price)\n",
    "\n",
    "hedge_types = [\"long call\",\"new long call\"]\n",
    "my_delta_hedge = delta_hedge_process(hedge_types, rfRate, stock_args)"
   ]
  },
  {
   "cell_type": "code",
   "execution_count": 296,
   "id": "b06913fa",
   "metadata": {},
   "outputs": [],
   "source": [
    "S, cost, cumul_cost, shares, cumul_shares, interest = my_delta_hedge.process_to_maturity()"
   ]
  },
  {
   "cell_type": "code",
   "execution_count": 297,
   "id": "06a72495",
   "metadata": {},
   "outputs": [
    {
     "data": {
      "text/plain": [
       "[49,\n",
       " 49.19947534022709,\n",
       " 49.10847809980079,\n",
       " 49.68606984885561,\n",
       " 49.72373094415995,\n",
       " 48.938507842383444,\n",
       " 49.377060276791696,\n",
       " 49.35647977521518,\n",
       " 49.99426102089319,\n",
       " 50.12916365848353,\n",
       " 49.46235614348752,\n",
       " 49.15932393401958,\n",
       " 48.66838043993855,\n",
       " 49.11778148149688,\n",
       " 48.52808221059953,\n",
       " 49.112354332535894,\n",
       " 49.3953578907325,\n",
       " 48.944422922457306,\n",
       " 48.475922569531285,\n",
       " 47.991990962083,\n",
       " 47.842228199246755]"
      ]
     },
     "execution_count": 297,
     "metadata": {},
     "output_type": "execute_result"
    }
   ],
   "source": [
    "S"
   ]
  },
  {
   "cell_type": "code",
   "execution_count": 286,
   "id": "e1f00f81",
   "metadata": {},
   "outputs": [
    {
     "data": {
      "text/plain": [
       "[47.226665365932575, 997.9513139412836]"
      ]
     },
     "execution_count": 286,
     "metadata": {},
     "output_type": "execute_result"
    }
   ],
   "source": [
    "my_delta_hedge.FINAL_PRICE"
   ]
  },
  {
   "cell_type": "markdown",
   "id": "c9b3b149",
   "metadata": {},
   "source": [
    "# Comparing Hedging Methods Statistically"
   ]
  },
  {
   "cell_type": "markdown",
   "id": "48acbae2",
   "metadata": {},
   "source": [
    "## small variance"
   ]
  },
  {
   "cell_type": "code",
   "execution_count": 306,
   "id": "929bb00c",
   "metadata": {},
   "outputs": [
    {
     "name": "stdout",
     "output_type": "stream",
     "text": [
      "Black-Scholes Price:  1.202956651115926\n"
     ]
    }
   ],
   "source": [
    "S = 50\n",
    "K = 50\n",
    "tau = 20./52.\n",
    "sigma = 0.05\n",
    "r = 0.05\n",
    "d_plus = (1/(sigma*np.sqrt(tau)))*( np.log(S/K) + (r + sigma*sigma/2)*tau )\n",
    "d_minus = d_plus - sigma*np.sqrt(tau)\n",
    "BS_price = S*norm.cdf(d_plus) - K*np.exp(-r*tau)*norm.cdf(d_minus)\n",
    "print(\"Black-Scholes Price: \", BS_price)"
   ]
  },
  {
   "cell_type": "code",
   "execution_count": 308,
   "id": "af08d864",
   "metadata": {},
   "outputs": [],
   "source": [
    "traditional_cost = []\n",
    "my_cost = []\n",
    "for i in range(10000):\n",
    "    Scur = 50\n",
    "    strike_price = 50\n",
    "    rfRate = 0.05\n",
    "    sigma = 0.05\n",
    "    T = 20./52.\n",
    "    dt = 1./52.\n",
    "    mu = 0.\n",
    "    stock_args = (dt, T, Scur, mu, sigma, strike_price)\n",
    "\n",
    "    hedge_types = [\"long call\",\"new long call\"]\n",
    "    my_delta_hedge = delta_hedge_process(hedge_types, rfRate, stock_args)\n",
    "\n",
    "    S, cost, cumul_cost, shares, cumul_shares, interest = my_delta_hedge.process_to_maturity()\n",
    "    final_prices = my_delta_hedge.FINAL_PRICE\n",
    "    traditional_cost.append(final_prices[0])\n",
    "    my_cost.append(final_prices[1])\n",
    "    \n",
    "traditional_cost = np.array(traditional_cost)\n",
    "my_cost = np.array(my_cost)"
   ]
  },
  {
   "cell_type": "code",
   "execution_count": 309,
   "id": "749132e3",
   "metadata": {},
   "outputs": [
    {
     "name": "stdout",
     "output_type": "stream",
     "text": [
      "Avereage traditional:  1.2314010132519804 , Average of mine:  0.6489125718250265\n",
      "Variance traditional:  0.013197228023740053 , Variance of mine:  0.8253706857363994\n"
     ]
    }
   ],
   "source": [
    "print(\"Avereage traditional: \",np.mean(traditional_cost),\", Average of mine: \", np.mean(my_cost))\n",
    "print(\"Variance traditional: \",np.var(traditional_cost),\", Variance of mine: \", np.var(my_cost))"
   ]
  },
  {
   "cell_type": "code",
   "execution_count": 310,
   "id": "93bba7f7",
   "metadata": {},
   "outputs": [
    {
     "data": {
      "text/plain": [
       "<matplotlib.lines.Line2D at 0x7f99c831bb80>"
      ]
     },
     "execution_count": 310,
     "metadata": {},
     "output_type": "execute_result"
    },
    {
     "data": {
      "image/png": "[encoded data removed]",
      "text/plain": [
       "<Figure size 864x576 with 2 Axes>"
      ]
     },
     "metadata": {
      "needs_background": "light"
     },
     "output_type": "display_data"
    }
   ],
   "source": [
    "from matplotlib.ticker import ScalarFormatter\n",
    "fig, (ax1,ax2) = plt.subplots(2,1,figsize=(12,8))\n",
    "bins = 1000\n",
    "\n",
    "\n",
    "ax1.hist(traditional_cost, bins=bins)\n",
    "ax1.axvline(BS_price,color='k',linestyle=\"--\",linewidth=2)\n",
    "ax2.hist(my_cost, bins=bins)\n",
    "ax2.set_xscale(\"log\")\n",
    "ax2.xaxis.set_major_formatter(ScalarFormatter())\n",
    "ax2.axvline(BS_price,color='k',linestyle=\"--\",linewidth=2)\n",
    "# ax2.xaxis.set_ticks([0.0,0.05,0.1,0.5,1.0,2,5,10])\n",
    "# ax2.set_xticks([0.0,0.05,0.1,0.5,1.0,2.0]) \n",
    "# ax2.set_xticklabels([0.0,0.05,0.1,0.5,1.0,2.0], fontsize=12)\n"
   ]
  },
  {
   "cell_type": "markdown",
   "id": "55a69d26",
   "metadata": {},
   "source": [
    "## large variance"
   ]
  },
  {
   "cell_type": "code",
   "execution_count": 79,
   "id": "050a4f13",
   "metadata": {},
   "outputs": [
    {
     "name": "stdout",
     "output_type": "stream",
     "text": [
      "Black-Scholes Price:  8.395816815604057\n"
     ]
    }
   ],
   "source": [
    "S = 50\n",
    "K = 50\n",
    "tau = 20./52.\n",
    "sigma = 0.65\n",
    "r = 0.05\n",
    "d_plus = (1/(sigma*np.sqrt(tau)))*( np.log(S/K) + (r + sigma*sigma/2)*tau )\n",
    "d_minus = d_plus - sigma*np.sqrt(tau)\n",
    "BS_price = S*norm.cdf(d_plus) - K*np.exp(-r*tau)*norm.cdf(d_minus)\n",
    "print(\"Black-Scholes Price: \", BS_price)"
   ]
  },
  {
   "cell_type": "code",
   "execution_count": 72,
   "id": "274e2274",
   "metadata": {},
   "outputs": [
    {
     "name": "stdout",
     "output_type": "stream",
     "text": [
      "Avereage traditional:  8.541381100213648 , Average of mine:  8.090646079949009\n",
      "Variance traditional:  2.350069207835862 , Variance of mine:  102.73495998063902\n"
     ]
    }
   ],
   "source": [
    "traditional_cost = []\n",
    "my_cost = []\n",
    "for i in range(10000):\n",
    "    Scur = 50\n",
    "    strike_price = 50\n",
    "    rfRate = 0.05\n",
    "    sigma = 0.65\n",
    "    T = 20./52.\n",
    "    dt = 1./52.\n",
    "    mu = 0.\n",
    "    stock_args = (dt, T, Scur, mu, sigma, strike_price)\n",
    "\n",
    "    hedge_types = [\"long call\",\"new long call\"]\n",
    "    my_delta_hedge = delta_hedge_process(hedge_types, rfRate, stock_args)\n",
    "\n",
    "    S, cost, cumul_cost, shares, cumul_shares, interest = my_delta_hedge.process_to_maturity()\n",
    "    final_prices = my_delta_hedge.FINAL_PRICE\n",
    "    traditional_cost.append(final_prices[0])\n",
    "    my_cost.append(final_prices[1])\n",
    "    \n",
    "traditional_cost = np.array(traditional_cost)\n",
    "my_cost = np.array(my_cost)\n",
    "\n",
    "print(\"Avereage traditional: \",np.mean(traditional_cost),\", Average of mine: \", np.mean(my_cost))\n",
    "print(\"Variance traditional: \",np.var(traditional_cost),\", Variance of mine: \", np.var(my_cost))"
   ]
  },
  {
   "cell_type": "code",
   "execution_count": 85,
   "id": "040bb2d3",
   "metadata": {},
   "outputs": [
    {
     "data": {
      "text/plain": [
       "<matplotlib.lines.Line2D at 0x7f99d76124c0>"
      ]
     },
     "execution_count": 85,
     "metadata": {},
     "output_type": "execute_result"
    },
    {
     "data": {
      "image/png": "[encoded data removed]",
      "text/plain": [
       "<Figure size 864x576 with 2 Axes>"
      ]
     },
     "metadata": {
      "needs_background": "light"
     },
     "output_type": "display_data"
    }
   ],
   "source": [
    "from matplotlib.ticker import ScalarFormatter\n",
    "fig, (ax1,ax2) = plt.subplots(2,1,figsize=(12,8))\n",
    "bins = 1000\n",
    "\n",
    "\n",
    "ax1.hist(traditional_cost, bins=bins,density=True,stacked=True)\n",
    "ax1.axvline(BS_price,color='k',linestyle=\"--\",linewidth=2)\n",
    "ax2.hist(my_cost, bins=bins,density=True,stacked=True)\n",
    "ax2.axvline(BS_price,color='k',linestyle=\"--\",linewidth=2)\n",
    "# ax2.set_xscale(\"log\")\n",
    "# ax2.xaxis.set_major_formatter(ScalarFormatter())\n",
    "# ax2.xaxis.set_ticks([0.0,0.05,0.1,0.5,1.0,2,5,10])\n",
    "# ax2.set_xticks([0.0,0.05,0.1,0.5,1.0,2.0]) \n",
    "# ax2.set_xticklabels([0.0,0.05,0.1,0.5,1.0,2.0], fontsize=12)\n"
   ]
  },
  {
   "cell_type": "markdown",
   "id": "3956138f",
   "metadata": {},
   "source": [
    "## small variance, lower start price"
   ]
  },
  {
   "cell_type": "code",
   "execution_count": 94,
   "id": "bf3a92b5",
   "metadata": {},
   "outputs": [
    {
     "name": "stdout",
     "output_type": "stream",
     "text": [
      "Black-Scholes Price:  0.5829072848018519\n"
     ]
    }
   ],
   "source": [
    "S = 49\n",
    "K = 50\n",
    "tau = 20./52.\n",
    "sigma = 0.05\n",
    "r = 0.05\n",
    "d_plus = (1/(sigma*np.sqrt(tau)))*( np.log(S/K) + (r + sigma*sigma/2)*tau )\n",
    "d_minus = d_plus - sigma*np.sqrt(tau)\n",
    "BS_price = S*norm.cdf(d_plus) - K*np.exp(-r*tau)*norm.cdf(d_minus)\n",
    "print(\"Black-Scholes Price: \", BS_price)"
   ]
  },
  {
   "cell_type": "code",
   "execution_count": 95,
   "id": "bc4f5d79",
   "metadata": {},
   "outputs": [
    {
     "name": "stdout",
     "output_type": "stream",
     "text": [
      "Avereage traditional:  0.6000564891039449 , Average of mine:  0.25430108752912584\n",
      "Variance traditional:  0.012306137014250908 , Variance of mine:  0.3239393439931818\n"
     ]
    }
   ],
   "source": [
    "traditional_cost = []\n",
    "my_cost = []\n",
    "for i in range(10000):\n",
    "    Scur = 49\n",
    "    strike_price = 50\n",
    "    rfRate = 0.05\n",
    "    sigma = 0.05\n",
    "    T = 20./52.\n",
    "    dt = 1./52.\n",
    "    mu = 0.\n",
    "    stock_args = (dt, T, Scur, mu, sigma, strike_price)\n",
    "\n",
    "    hedge_types = [\"long call\",\"new long call\"]\n",
    "    my_delta_hedge = delta_hedge_process(hedge_types, rfRate, stock_args)\n",
    "\n",
    "    S, cost, cumul_cost, shares, cumul_shares, interest = my_delta_hedge.process_to_maturity()\n",
    "    final_prices = my_delta_hedge.FINAL_PRICE\n",
    "    traditional_cost.append(final_prices[0])\n",
    "    my_cost.append(final_prices[1])\n",
    "    \n",
    "traditional_cost = np.array(traditional_cost)\n",
    "my_cost = np.array(my_cost)\n",
    "\n",
    "print(\"Avereage traditional: \",np.mean(traditional_cost),\", Average of mine: \", np.mean(my_cost))\n",
    "print(\"Variance traditional: \",np.var(traditional_cost),\", Variance of mine: \", np.var(my_cost))"
   ]
  },
  {
   "cell_type": "code",
   "execution_count": 97,
   "id": "743fc58c",
   "metadata": {},
   "outputs": [
    {
     "data": {
      "text/plain": [
       "<matplotlib.lines.Line2D at 0x7f99d422a5e0>"
      ]
     },
     "execution_count": 97,
     "metadata": {},
     "output_type": "execute_result"
    },
    {
     "data": {
      "image/png": "[encoded data removed]",
      "text/plain": [
       "<Figure size 864x576 with 2 Axes>"
      ]
     },
     "metadata": {
      "needs_background": "light"
     },
     "output_type": "display_data"
    }
   ],
   "source": [
    "from matplotlib.ticker import ScalarFormatter\n",
    "fig, (ax1,ax2) = plt.subplots(2,1,figsize=(12,8))\n",
    "bins = 500\n",
    "\n",
    "\n",
    "ax1.hist(traditional_cost, bins=bins,density=True,stacked=True)\n",
    "ax1.axvline(BS_price,color='k',linestyle=\"--\",linewidth=2)\n",
    "ax2.hist(my_cost, bins=bins,density=True,stacked=True)\n",
    "ax2.axvline(BS_price,color='k',linestyle=\"--\",linewidth=2)\n",
    "# ax2.set_xscale(\"log\")\n",
    "# ax2.xaxis.set_major_formatter(ScalarFormatter())\n",
    "# ax2.xaxis.set_ticks([0.0,0.05,0.1,0.5,1.0,2,5,10])\n",
    "# ax2.set_xticks([0.0,0.05,0.1,0.5,1.0,2.0]) \n",
    "# ax2.set_xticklabels([0.0,0.05,0.1,0.5,1.0,2.0], fontsize=12)\n"
   ]
  },
  {
   "cell_type": "markdown",
   "id": "02b8d170",
   "metadata": {},
   "source": [
    "## small variance, higher start price"
   ]
  },
  {
   "cell_type": "code",
   "execution_count": 101,
   "id": "57f18282",
   "metadata": {},
   "outputs": [
    {
     "name": "stdout",
     "output_type": "stream",
     "text": [
      "Black-Scholes Price:  2.029370376192851\n"
     ]
    }
   ],
   "source": [
    "S = 51\n",
    "K = 50\n",
    "tau = 20./52.\n",
    "sigma = 0.05\n",
    "r = 0.05\n",
    "d_plus = (1/(sigma*np.sqrt(tau)))*( np.log(S/K) + (r + sigma*sigma/2)*tau )\n",
    "d_minus = d_plus - sigma*np.sqrt(tau)\n",
    "BS_price = S*norm.cdf(d_plus) - K*np.exp(-r*tau)*norm.cdf(d_minus)\n",
    "print(\"Black-Scholes Price: \", BS_price)"
   ]
  },
  {
   "cell_type": "code",
   "execution_count": 102,
   "id": "5b0134b5",
   "metadata": {},
   "outputs": [
    {
     "name": "stdout",
     "output_type": "stream",
     "text": [
      "Avereage traditional:  2.073633485061812 , Average of mine:  1.2828799477120165\n",
      "Variance traditional:  0.00881220458009205 , Variance of mine:  1.4361838231274842\n"
     ]
    }
   ],
   "source": [
    "traditional_cost = []\n",
    "my_cost = []\n",
    "for i in range(10000):\n",
    "    Scur = 51\n",
    "    strike_price = 50\n",
    "    rfRate = 0.05\n",
    "    sigma = 0.05\n",
    "    T = 20./52.\n",
    "    dt = 1./52.\n",
    "    mu = 0.\n",
    "    stock_args = (dt, T, Scur, mu, sigma, strike_price)\n",
    "\n",
    "    hedge_types = [\"long call\",\"new long call\"]\n",
    "    my_delta_hedge = delta_hedge_process(hedge_types, rfRate, stock_args)\n",
    "\n",
    "    S, cost, cumul_cost, shares, cumul_shares, interest = my_delta_hedge.process_to_maturity()\n",
    "    final_prices = my_delta_hedge.FINAL_PRICE\n",
    "    traditional_cost.append(final_prices[0])\n",
    "    my_cost.append(final_prices[1])\n",
    "    \n",
    "traditional_cost = np.array(traditional_cost)\n",
    "my_cost = np.array(my_cost)\n",
    "\n",
    "print(\"Avereage traditional: \",np.mean(traditional_cost),\", Average of mine: \", np.mean(my_cost))\n",
    "print(\"Variance traditional: \",np.var(traditional_cost),\", Variance of mine: \", np.var(my_cost))"
   ]
  },
  {
   "cell_type": "code",
   "execution_count": 106,
   "id": "d393fb10",
   "metadata": {},
   "outputs": [
    {
     "data": {
      "text/plain": [
       "<matplotlib.lines.Line2D at 0x7f99d170d9a0>"
      ]
     },
     "execution_count": 106,
     "metadata": {},
     "output_type": "execute_result"
    },
    {
     "data": {
      "image/png": "[encoded data removed]",
      "text/plain": [
       "<Figure size 864x576 with 2 Axes>"
      ]
     },
     "metadata": {
      "needs_background": "light"
     },
     "output_type": "display_data"
    }
   ],
   "source": [
    "from matplotlib.ticker import ScalarFormatter\n",
    "fig, (ax1,ax2) = plt.subplots(2,1,figsize=(12,8))\n",
    "bins = 500\n",
    "\n",
    "\n",
    "ax1.hist(traditional_cost, bins=bins)\n",
    "ax1.axvline(BS_price,color='k',linestyle=\"--\",linewidth=2)\n",
    "ax2.hist(my_cost, bins=bins)\n",
    "ax2.axvline(BS_price,color='k',linestyle=\"--\",linewidth=2)\n",
    "# ax2.set_xscale(\"log\")\n",
    "# ax2.xaxis.set_major_formatter(ScalarFormatter())\n",
    "# ax2.xaxis.set_ticks([0.0,0.05,0.1,0.5,1.0,2,5,10])\n",
    "# ax2.set_xticks([0.0,0.05,0.1,0.5,1.0,2.0]) \n",
    "# ax2.set_xticklabels([0.0,0.05,0.1,0.5,1.0,2.0], fontsize=12)\n"
   ]
  },
  {
   "cell_type": "markdown",
   "id": "4f4beb86",
   "metadata": {},
   "source": [
    "## high variance, lower start price"
   ]
  },
  {
   "cell_type": "code",
   "execution_count": 109,
   "id": "a778e063",
   "metadata": {},
   "outputs": [
    {
     "name": "stdout",
     "output_type": "stream",
     "text": [
      "Black-Scholes Price:  7.807092508425786\n"
     ]
    }
   ],
   "source": [
    "S = 49\n",
    "K = 50\n",
    "tau = 20./52.\n",
    "sigma = 0.65\n",
    "r = 0.05\n",
    "d_plus = (1/(sigma*np.sqrt(tau)))*( np.log(S/K) + (r + sigma*sigma/2)*tau )\n",
    "d_minus = d_plus - sigma*np.sqrt(tau)\n",
    "BS_price = S*norm.cdf(d_plus) - K*np.exp(-r*tau)*norm.cdf(d_minus)\n",
    "print(\"Black-Scholes Price: \", BS_price)"
   ]
  },
  {
   "cell_type": "code",
   "execution_count": 110,
   "id": "b37c4183",
   "metadata": {},
   "outputs": [
    {
     "name": "stdout",
     "output_type": "stream",
     "text": [
      "Avereage traditional:  7.999484231395003 , Average of mine:  7.564601904863796\n",
      "Variance traditional:  2.32015654502022 , Variance of mine:  100.46276491886697\n"
     ]
    }
   ],
   "source": [
    "traditional_cost = []\n",
    "my_cost = []\n",
    "for i in range(10000):\n",
    "    Scur = 49\n",
    "    strike_price = 50\n",
    "    rfRate = 0.05\n",
    "    sigma = 0.65\n",
    "    T = 20./52.\n",
    "    dt = 1./52.\n",
    "    mu = 0.\n",
    "    stock_args = (dt, T, Scur, mu, sigma, strike_price)\n",
    "\n",
    "    hedge_types = [\"long call\",\"new long call\"]\n",
    "    my_delta_hedge = delta_hedge_process(hedge_types, rfRate, stock_args)\n",
    "\n",
    "    S, cost, cumul_cost, shares, cumul_shares, interest = my_delta_hedge.process_to_maturity()\n",
    "    final_prices = my_delta_hedge.FINAL_PRICE\n",
    "    traditional_cost.append(final_prices[0])\n",
    "    my_cost.append(final_prices[1])\n",
    "    \n",
    "traditional_cost = np.array(traditional_cost)\n",
    "my_cost = np.array(my_cost)\n",
    "\n",
    "print(\"Avereage traditional: \",np.mean(traditional_cost),\", Average of mine: \", np.mean(my_cost))\n",
    "print(\"Variance traditional: \",np.var(traditional_cost),\", Variance of mine: \", np.var(my_cost))"
   ]
  },
  {
   "cell_type": "code",
   "execution_count": 111,
   "id": "2d0a202e",
   "metadata": {},
   "outputs": [
    {
     "data": {
      "text/plain": [
       "<matplotlib.lines.Line2D at 0x7f99d0e56670>"
      ]
     },
     "execution_count": 111,
     "metadata": {},
     "output_type": "execute_result"
    },
    {
     "data": {
      "image/png": "[encoded data removed]",
      "text/plain": [
       "<Figure size 864x576 with 2 Axes>"
      ]
     },
     "metadata": {
      "needs_background": "light"
     },
     "output_type": "display_data"
    }
   ],
   "source": [
    "from matplotlib.ticker import ScalarFormatter\n",
    "fig, (ax1,ax2) = plt.subplots(2,1,figsize=(12,8))\n",
    "bins = 500\n",
    "\n",
    "\n",
    "ax1.hist(traditional_cost, bins=bins)\n",
    "ax1.axvline(BS_price,color='k',linestyle=\"--\",linewidth=2)\n",
    "ax2.hist(my_cost, bins=bins)\n",
    "ax2.axvline(BS_price,color='k',linestyle=\"--\",linewidth=2)\n",
    "# ax2.set_xscale(\"log\")\n",
    "# ax2.xaxis.set_major_formatter(ScalarFormatter())\n",
    "# ax2.xaxis.set_ticks([0.0,0.05,0.1,0.5,1.0,2,5,10])\n",
    "# ax2.set_xticks([0.0,0.05,0.1,0.5,1.0,2.0]) \n",
    "# ax2.set_xticklabels([0.0,0.05,0.1,0.5,1.0,2.0], fontsize=12)\n"
   ]
  },
  {
   "cell_type": "markdown",
   "id": "86e08eaa",
   "metadata": {},
   "source": [
    "## high variance, higher start price"
   ]
  },
  {
   "cell_type": "code",
   "execution_count": 113,
   "id": "1ea7cf7d",
   "metadata": {},
   "outputs": [
    {
     "name": "stdout",
     "output_type": "stream",
     "text": [
      "Black-Scholes Price:  9.00372754061058\n"
     ]
    }
   ],
   "source": [
    "S = 51\n",
    "K = 50\n",
    "tau = 20./52.\n",
    "sigma = 0.65\n",
    "r = 0.05\n",
    "d_plus = (1/(sigma*np.sqrt(tau)))*( np.log(S/K) + (r + sigma*sigma/2)*tau )\n",
    "d_minus = d_plus - sigma*np.sqrt(tau)\n",
    "BS_price = S*norm.cdf(d_plus) - K*np.exp(-r*tau)*norm.cdf(d_minus)\n",
    "print(\"Black-Scholes Price: \", BS_price)"
   ]
  },
  {
   "cell_type": "code",
   "execution_count": 114,
   "id": "7bdb3da7",
   "metadata": {},
   "outputs": [
    {
     "name": "stdout",
     "output_type": "stream",
     "text": [
      "Avereage traditional:  9.192327336228974 , Average of mine:  8.78914149503615\n",
      "Variance traditional:  2.4333769822565254 , Variance of mine:  111.2091977012192\n"
     ]
    }
   ],
   "source": [
    "traditional_cost = []\n",
    "my_cost = []\n",
    "for i in range(10000):\n",
    "    Scur = \n",
    "    strike_price = 50\n",
    "    rfRate = 0.05\n",
    "    sigma = 0.65\n",
    "    T = 20./52.\n",
    "    dt = 1./52.\n",
    "    mu = 0.\n",
    "    stock_args = (dt, T, Scur, mu, sigma, strike_price)\n",
    "\n",
    "    hedge_types = [\"long call\",\"new long call\"]\n",
    "    my_delta_hedge = delta_hedge_process(hedge_types, rfRate, stock_args)\n",
    "\n",
    "    S, cost, cumul_cost, shares, cumul_shares, interest = my_delta_hedge.process_to_maturity()\n",
    "    final_prices = my_delta_hedge.FINAL_PRICE\n",
    "    traditional_cost.append(final_prices[0])\n",
    "    my_cost.append(final_prices[1])\n",
    "    \n",
    "traditional_cost = np.array(traditional_cost)\n",
    "my_cost = np.array(my_cost)\n",
    "\n",
    "print(\"Avereage traditional: \",np.mean(traditional_cost),\", Average of mine: \", np.mean(my_cost))\n",
    "print(\"Variance traditional: \",np.var(traditional_cost),\", Variance of mine: \", np.var(my_cost))"
   ]
  },
  {
   "cell_type": "code",
   "execution_count": 115,
   "id": "b56bd1d1",
   "metadata": {},
   "outputs": [
    {
     "data": {
      "text/plain": [
       "<matplotlib.lines.Line2D at 0x7f99d05a69a0>"
      ]
     },
     "execution_count": 115,
     "metadata": {},
     "output_type": "execute_result"
    },
    {
     "data": {
      "image/png": "[encoded data removed]",
      "text/plain": [
       "<Figure size 864x576 with 2 Axes>"
      ]
     },
     "metadata": {
      "needs_background": "light"
     },
     "output_type": "display_data"
    }
   ],
   "source": [
    "from matplotlib.ticker import ScalarFormatter\n",
    "fig, (ax1,ax2) = plt.subplots(2,1,figsize=(12,8))\n",
    "bins = 500\n",
    "\n",
    "\n",
    "ax1.hist(traditional_cost, bins=bins)\n",
    "ax1.axvline(BS_price,color='k',linestyle=\"--\",linewidth=2)\n",
    "ax2.hist(my_cost, bins=bins)\n",
    "ax2.axvline(BS_price,color='k',linestyle=\"--\",linewidth=2)\n",
    "# ax2.set_xscale(\"log\")\n",
    "# ax2.xaxis.set_major_formatter(ScalarFormatter())\n",
    "# ax2.xaxis.set_ticks([0.0,0.05,0.1,0.5,1.0,2,5,10])\n",
    "# ax2.set_xticks([0.0,0.05,0.1,0.5,1.0,2.0]) \n",
    "# ax2.set_xticklabels([0.0,0.05,0.1,0.5,1.0,2.0], fontsize=12)\n"
   ]
  },
  {
   "cell_type": "code",
   "execution_count": 116,
   "id": "190b9dd2",
   "metadata": {},
   "outputs": [],
   "source": [
    "counts1, bins1 = np.histogram(traditional_cost, bins)\n",
    "counts2, bins2 = np.histogram(my_cost, bins)\n"
   ]
  },
  {
   "cell_type": "code",
   "execution_count": 127,
   "id": "5e1c8eb7",
   "metadata": {},
   "outputs": [
    {
     "data": {
      "text/plain": [
       "18.658590423854466"
      ]
     },
     "execution_count": 127,
     "metadata": {},
     "output_type": "execute_result"
    }
   ],
   "source": [
    "np.amax(traditional_cost)"
   ]
  },
  {
   "cell_type": "code",
   "execution_count": 123,
   "id": "85f0ec7d",
   "metadata": {},
   "outputs": [
    {
     "data": {
      "text/plain": [
       "18.658590423854466"
      ]
     },
     "execution_count": 123,
     "metadata": {},
     "output_type": "execute_result"
    }
   ],
   "source": [
    "bins1[-1]"
   ]
  },
  {
   "cell_type": "code",
   "execution_count": 134,
   "id": "0aea4a21",
   "metadata": {},
   "outputs": [],
   "source": [
    "def integrate_0_to(X,counts,bins):\n",
    "    if X>=bins[-1]:\n",
    "        return 1\n",
    "    integral = 0\n",
    "    B = bins[0]\n",
    "    i = 0\n",
    "    while X > B:\n",
    "        integral += counts[i]\n",
    "        i += 1\n",
    "        B = bins[i]\n",
    "    integral += counts[i]\n",
    "    integral /= np.sum(counts)\n",
    "    return integral"
   ]
  },
  {
   "cell_type": "code",
   "execution_count": 193,
   "id": "192da0c9",
   "metadata": {},
   "outputs": [],
   "source": [
    "def integrate_from(a,b,counts,bins):\n",
    "    if b>bins[-1]:\n",
    "        b = bins[-1]\n",
    "    if (b-a)>=bins[-1]:\n",
    "        return 1\n",
    "    integral = 0\n",
    "    B = bins[0]\n",
    "    i = 0\n",
    "    while a > B and i < len(bins):\n",
    "        i += 1\n",
    "        B = bins[i]\n",
    "    while b >= B and i < len(counts-1):\n",
    "        integral += counts[i]\n",
    "        i += 1\n",
    "        B = bins[i]\n",
    "#     integral += counts[i]\n",
    "    integral /= np.sum(counts)\n",
    "    return integral"
   ]
  },
  {
   "cell_type": "code",
   "execution_count": 190,
   "id": "41880b65",
   "metadata": {},
   "outputs": [
    {
     "name": "stdout",
     "output_type": "stream",
     "text": [
      "0.0023\n"
     ]
    }
   ],
   "source": [
    "int1 = integrate_0_to(4.5,counts1,bins1)\n",
    "print(int1)"
   ]
  },
  {
   "cell_type": "code",
   "execution_count": 189,
   "id": "43084216",
   "metadata": {},
   "outputs": [
    {
     "name": "stdout",
     "output_type": "stream",
     "text": [
      "0.6045\n"
     ]
    }
   ],
   "source": [
    "int2 = integrate_0_to(4.5,counts2,bins2)\n",
    "print(int2)"
   ]
  },
  {
   "cell_type": "code",
   "execution_count": 185,
   "id": "883a2886",
   "metadata": {},
   "outputs": [],
   "source": [
    "delta = BS_price*0.1"
   ]
  },
  {
   "cell_type": "code",
   "execution_count": 199,
   "id": "7ead7f6c",
   "metadata": {},
   "outputs": [
    {
     "name": "stdout",
     "output_type": "stream",
     "text": [
      "0.9898\n"
     ]
    }
   ],
   "source": [
    "int1 = integrate_from(0,BS_price*1.5,counts1,bins1)\n",
    "print(int1)"
   ]
  },
  {
   "cell_type": "code",
   "execution_count": 198,
   "id": "3abd3386",
   "metadata": {},
   "outputs": [
    {
     "name": "stdout",
     "output_type": "stream",
     "text": [
      "0.7669\n"
     ]
    }
   ],
   "source": [
    "int2 = integrate_from(0,BS_price*1.5,counts2,bins2)\n",
    "print(int2)"
   ]
  },
  {
   "cell_type": "code",
   "execution_count": 188,
   "id": "8d53da0c",
   "metadata": {},
   "outputs": [
    {
     "data": {
      "text/plain": [
       "9.00372754061058"
      ]
     },
     "execution_count": 188,
     "metadata": {},
     "output_type": "execute_result"
    }
   ],
   "source": [
    "BS_price"
   ]
  },
  {
   "cell_type": "markdown",
   "id": "6f02e703",
   "metadata": {},
   "source": [
    "## More rebalancing"
   ]
  },
  {
   "cell_type": "code",
   "execution_count": 254,
   "id": "b405c6fc",
   "metadata": {},
   "outputs": [
    {
     "name": "stdout",
     "output_type": "stream",
     "text": [
      "Black-Scholes Price:  6.016573478964997\n"
     ]
    }
   ],
   "source": [
    "S = 49\n",
    "K = 50\n",
    "tau = 20./52.\n",
    "sigma = 0.5\n",
    "r = 0.05\n",
    "d_plus = (1/(sigma*np.sqrt(tau)))*( np.log(S/K) + (r + sigma*sigma/2)*tau )\n",
    "d_minus = d_plus - sigma*np.sqrt(tau)\n",
    "BS_price = S*norm.cdf(d_plus) - K*np.exp(-r*tau)*norm.cdf(d_minus)\n",
    "print(\"Black-Scholes Price: \", BS_price)"
   ]
  },
  {
   "cell_type": "code",
   "execution_count": 255,
   "id": "01198afe",
   "metadata": {},
   "outputs": [
    {
     "name": "stdout",
     "output_type": "stream",
     "text": [
      "Avereage traditional:  6.135634721753384 , Average of mine:  5.7851435700361735\n",
      "Variance traditional:  0.36872082559003433 , Variance of mine:  62.53715577540025\n"
     ]
    }
   ],
   "source": [
    "traditional_cost = []\n",
    "my_cost = []\n",
    "for i in range(10000):\n",
    "    Scur = 49\n",
    "    strike_price = 50\n",
    "    rfRate = 0.05\n",
    "    sigma = 0.5\n",
    "    T = 20./52.\n",
    "    dt = (1./52.)*0.25\n",
    "    mu = 0.\n",
    "    stock_args = (dt, T, Scur, mu, sigma, strike_price)\n",
    "\n",
    "    hedge_types = [\"long call\",\"new long call\"]\n",
    "    my_delta_hedge = delta_hedge_process(hedge_types, rfRate, stock_args)\n",
    "\n",
    "    S, cost, cumul_cost, shares, cumul_shares, interest = my_delta_hedge.process_to_maturity()\n",
    "    final_prices = my_delta_hedge.FINAL_PRICE\n",
    "    traditional_cost.append(final_prices[0])\n",
    "    my_cost.append(final_prices[1])\n",
    "    \n",
    "traditional_cost = np.array(traditional_cost)\n",
    "my_cost = np.array(my_cost)\n",
    "\n",
    "print(\"Avereage traditional: \",np.mean(traditional_cost),\", Average of mine: \", np.mean(my_cost))\n",
    "print(\"Variance traditional: \",np.var(traditional_cost),\", Variance of mine: \", np.var(my_cost))"
   ]
  },
  {
   "cell_type": "code",
   "execution_count": 256,
   "id": "d3dc3097",
   "metadata": {},
   "outputs": [
    {
     "data": {
      "image/png": "[encoded data removed]",
      "text/plain": [
       "<Figure size 864x576 with 2 Axes>"
      ]
     },
     "metadata": {
      "needs_background": "light"
     },
     "output_type": "display_data"
    }
   ],
   "source": [
    "from matplotlib.ticker import ScalarFormatter\n",
    "fig, (ax1,ax2) = plt.subplots(2,1,figsize=(12,8))\n",
    "bins = 500\n",
    "\n",
    "\n",
    "ax1.hist(traditional_cost, bins=bins)\n",
    "ax1.axvline(BS_price,color='k',linestyle=\"--\",linewidth=2)\n",
    "ax2.hist(my_cost, bins=bins)\n",
    "ax2.axvline(BS_price,color='k',linestyle=\"--\",linewidth=2)\n",
    "ax2.set_xscale(\"log\")\n",
    "ax2.xaxis.set_major_formatter(ScalarFormatter())\n",
    "# ax2.xaxis.set_ticks([0.0,0.05,0.1,0.5,1.0,2,5,10])\n",
    "# ax2.set_xticks([0.0,0.05,0.1,0.5,1.0,2.0]) \n",
    "# ax2.set_xticklabels([0.0,0.05,0.1,0.5,1.0,2.0], fontsize=12)\n"
   ]
  },
  {
   "cell_type": "markdown",
   "id": "895656eb",
   "metadata": {},
   "source": [
    "## Less rebalancing"
   ]
  },
  {
   "cell_type": "code",
   "execution_count": 261,
   "id": "57999bef",
   "metadata": {},
   "outputs": [
    {
     "name": "stdout",
     "output_type": "stream",
     "text": [
      "Black-Scholes Price:  6.016573478964997\n"
     ]
    }
   ],
   "source": [
    "S = 49\n",
    "K = 50\n",
    "tau = 20./52.\n",
    "sigma = 0.5\n",
    "r = 0.05\n",
    "d_plus = (1/(sigma*np.sqrt(tau)))*( np.log(S/K) + (r + sigma*sigma/2)*tau )\n",
    "d_minus = d_plus - sigma*np.sqrt(tau)\n",
    "BS_price = S*norm.cdf(d_plus) - K*np.exp(-r*tau)*norm.cdf(d_minus)\n",
    "print(\"Black-Scholes Price: \", BS_price)"
   ]
  },
  {
   "cell_type": "code",
   "execution_count": 264,
   "id": "ca0e749c",
   "metadata": {},
   "outputs": [
    {
     "name": "stdout",
     "output_type": "stream",
     "text": [
      "Avereage traditional:  12.532618951193745 , Average of mine:  7.326854913701017\n",
      "Variance traditional:  2.9393662834811183 , Variance of mine:  57.1709449979103\n"
     ]
    }
   ],
   "source": [
    "traditional_cost = []\n",
    "my_cost = []\n",
    "for i in range(10000):\n",
    "    Scur = 49\n",
    "    strike_price = 50\n",
    "    rfRate = 0.5\n",
    "    sigma = 0.5\n",
    "    T = 20./52.\n",
    "    dt = (1./52.)*2\n",
    "    mu = 0.\n",
    "    stock_args = (dt, T, Scur, mu, sigma, strike_price)\n",
    "\n",
    "    hedge_types = [\"long call\",\"new long call\"]\n",
    "    my_delta_hedge = delta_hedge_process(hedge_types, rfRate, stock_args)\n",
    "\n",
    "    S, cost, cumul_cost, shares, cumul_shares, interest = my_delta_hedge.process_to_maturity()\n",
    "    final_prices = my_delta_hedge.FINAL_PRICE\n",
    "    traditional_cost.append(final_prices[0])\n",
    "    my_cost.append(final_prices[1])\n",
    "    \n",
    "traditional_cost = np.array(traditional_cost)\n",
    "my_cost = np.array(my_cost)\n",
    "\n",
    "print(\"Avereage traditional: \",np.mean(traditional_cost),\", Average of mine: \", np.mean(my_cost))\n",
    "print(\"Variance traditional: \",np.var(traditional_cost),\", Variance of mine: \", np.var(my_cost))"
   ]
  },
  {
   "cell_type": "code",
   "execution_count": 265,
   "id": "89a8cca2",
   "metadata": {},
   "outputs": [
    {
     "data": {
      "image/png": "[encoded data removed]",
      "text/plain": [
       "<Figure size 864x576 with 2 Axes>"
      ]
     },
     "metadata": {
      "needs_background": "light"
     },
     "output_type": "display_data"
    }
   ],
   "source": [
    "from matplotlib.ticker import ScalarFormatter\n",
    "fig, (ax1,ax2) = plt.subplots(2,1,figsize=(12,8))\n",
    "bins = 500\n",
    "\n",
    "\n",
    "ax1.hist(traditional_cost, bins=bins)\n",
    "ax1.axvline(BS_price,color='k',linestyle=\"--\",linewidth=2)\n",
    "ax2.hist(my_cost, bins=bins)\n",
    "ax2.axvline(BS_price,color='k',linestyle=\"--\",linewidth=2)\n",
    "ax2.set_xscale(\"log\")\n",
    "ax2.xaxis.set_major_formatter(ScalarFormatter())\n",
    "# ax2.xaxis.set_ticks([0.0,0.05,0.1,0.5,1.0,2,5,10])\n",
    "# ax2.set_xticks([0.0,0.05,0.1,0.5,1.0,2.0]) \n",
    "# ax2.set_xticklabels([0.0,0.05,0.1,0.5,1.0,2.0], fontsize=12)\n"
   ]
  },
  {
   "cell_type": "markdown",
   "id": "9b3e6009",
   "metadata": {},
   "source": [
    "## Deep out-of-the-money and high volatility"
   ]
  },
  {
   "cell_type": "code",
   "execution_count": 272,
   "id": "3ab0c59f",
   "metadata": {},
   "outputs": [
    {
     "name": "stdout",
     "output_type": "stream",
     "text": [
      "Black-Scholes Price:  0.021638227112893788\n"
     ]
    }
   ],
   "source": [
    "S = 10\n",
    "K = 50\n",
    "tau = 20./52.\n",
    "sigma = 1\n",
    "r = 0.05\n",
    "d_plus = (1/(sigma*np.sqrt(tau)))*( np.log(S/K) + (r + sigma*sigma/2)*tau )\n",
    "d_minus = d_plus - sigma*np.sqrt(tau)\n",
    "BS_price = S*norm.cdf(d_plus) - K*np.exp(-r*tau)*norm.cdf(d_minus)\n",
    "print(\"Black-Scholes Price: \", BS_price)"
   ]
  },
  {
   "cell_type": "code",
   "execution_count": 273,
   "id": "5f8a76a6",
   "metadata": {},
   "outputs": [
    {
     "name": "stdout",
     "output_type": "stream",
     "text": [
      "Avereage traditional:  0.020855225248999174 , Average of mine:  0.020754942949931094\n",
      "Variance traditional:  0.008506535067307376 , Variance of mine:  0.23727427577996696\n"
     ]
    }
   ],
   "source": [
    "traditional_cost = []\n",
    "my_cost = []\n",
    "for i in range(10000):\n",
    "    Scur = 10\n",
    "    strike_price = 50\n",
    "    rfRate = 0.05\n",
    "    sigma = 1\n",
    "    T = 20./52.\n",
    "    dt = (1./52.)*.25\n",
    "    mu = 0.\n",
    "    stock_args = (dt, T, Scur, mu, sigma, strike_price)\n",
    "\n",
    "    hedge_types = [\"long call\",\"new long call\"]\n",
    "    my_delta_hedge = delta_hedge_process(hedge_types, rfRate, stock_args)\n",
    "\n",
    "    S, cost, cumul_cost, shares, cumul_shares, interest = my_delta_hedge.process_to_maturity()\n",
    "    final_prices = my_delta_hedge.FINAL_PRICE\n",
    "    traditional_cost.append(final_prices[0])\n",
    "    my_cost.append(final_prices[1])\n",
    "    \n",
    "traditional_cost = np.array(traditional_cost)\n",
    "my_cost = np.array(my_cost)\n",
    "\n",
    "print(\"Avereage traditional: \",np.mean(traditional_cost),\", Average of mine: \", np.mean(my_cost))\n",
    "print(\"Variance traditional: \",np.var(traditional_cost),\", Variance of mine: \", np.var(my_cost))"
   ]
  },
  {
   "cell_type": "code",
   "execution_count": 274,
   "id": "249a0a74",
   "metadata": {},
   "outputs": [
    {
     "data": {
      "image/png": "[encoded data removed]",
      "text/plain": [
       "<Figure size 864x576 with 2 Axes>"
      ]
     },
     "metadata": {
      "needs_background": "light"
     },
     "output_type": "display_data"
    }
   ],
   "source": [
    "from matplotlib.ticker import ScalarFormatter\n",
    "fig, (ax1,ax2) = plt.subplots(2,1,figsize=(12,8))\n",
    "bins = 500\n",
    "\n",
    "\n",
    "ax1.hist(traditional_cost, bins=bins)\n",
    "ax1.axvline(BS_price,color='k',linestyle=\"--\",linewidth=2)\n",
    "ax2.hist(my_cost, bins=bins)\n",
    "ax2.axvline(BS_price,color='k',linestyle=\"--\",linewidth=2)\n",
    "ax2.set_xscale(\"log\")\n",
    "ax2.xaxis.set_major_formatter(ScalarFormatter())\n",
    "# ax2.xaxis.set_ticks([0.0,0.05,0.1,0.5,1.0,2,5,10])\"\n",
    "# ax2.set_xticks([0.0,0.05,0.1,0.5,1.0,2.0]) \n",
    "# ax2.set_xticklabels([0.0,0.05,0.1,0.5,1.0,2.0], fontsize=12)\n"
   ]
  },
  {
   "cell_type": "markdown",
   "id": "5a47f731",
   "metadata": {},
   "source": [
    "## Deep in-the-money"
   ]
  },
  {
   "cell_type": "code",
   "execution_count": 275,
   "id": "e5897067",
   "metadata": {},
   "outputs": [
    {
     "name": "stdout",
     "output_type": "stream",
     "text": [
      "Black-Scholes Price:  40.95235188198986\n"
     ]
    }
   ],
   "source": [
    "S = 90\n",
    "K = 50\n",
    "tau = 20./52.\n",
    "sigma = 0.1\n",
    "r = 0.05\n",
    "d_plus = (1/(sigma*np.sqrt(tau)))*( np.log(S/K) + (r + sigma*sigma/2)*tau )\n",
    "d_minus = d_plus - sigma*np.sqrt(tau)\n",
    "BS_price = S*norm.cdf(d_plus) - K*np.exp(-r*tau)*norm.cdf(d_minus)\n",
    "print(\"Black-Scholes Price: \", BS_price)"
   ]
  },
  {
   "cell_type": "code",
   "execution_count": 276,
   "id": "4aeeb70f",
   "metadata": {},
   "outputs": [
    {
     "name": "stdout",
     "output_type": "stream",
     "text": [
      "Avereage traditional:  41.74582410979576 , Average of mine:  40.82420002648769\n",
      "Variance traditional:  0.0 , Variance of mine:  9.687709066797995\n"
     ]
    }
   ],
   "source": [
    "traditional_cost = []\n",
    "my_cost = []\n",
    "for i in range(10000):\n",
    "    Scur = 90\n",
    "    strike_price = 50\n",
    "    rfRate = 0.05\n",
    "    sigma = 0.1\n",
    "    T = 20./52.\n",
    "    dt = (1./52.)*2\n",
    "    mu = 0.\n",
    "    stock_args = (dt, T, Scur, mu, sigma, strike_price)\n",
    "\n",
    "    hedge_types = [\"long call\",\"new long call\"]\n",
    "    my_delta_hedge = delta_hedge_process(hedge_types, rfRate, stock_args)\n",
    "\n",
    "    S, cost, cumul_cost, shares, cumul_shares, interest = my_delta_hedge.process_to_maturity()\n",
    "    final_prices = my_delta_hedge.FINAL_PRICE\n",
    "    traditional_cost.append(final_prices[0])\n",
    "    my_cost.append(final_prices[1])\n",
    "    \n",
    "traditional_cost = np.array(traditional_cost)\n",
    "my_cost = np.array(my_cost)\n",
    "\n",
    "print(\"Avereage traditional: \",np.mean(traditional_cost),\", Average of mine: \", np.mean(my_cost))\n",
    "print(\"Variance traditional: \",np.var(traditional_cost),\", Variance of mine: \", np.var(my_cost))"
   ]
  },
  {
   "cell_type": "code",
   "execution_count": 277,
   "id": "aa540beb",
   "metadata": {},
   "outputs": [
    {
     "data": {
      "text/plain": [
       "<matplotlib.lines.Line2D at 0x7f99c99bd220>"
      ]
     },
     "execution_count": 277,
     "metadata": {},
     "output_type": "execute_result"
    },
    {
     "data": {
      "image/png": "[encoded data removed]",
      "text/plain": [
       "<Figure size 864x576 with 2 Axes>"
      ]
     },
     "metadata": {
      "needs_background": "light"
     },
     "output_type": "display_data"
    }
   ],
   "source": [
    "from matplotlib.ticker import ScalarFormatter\n",
    "fig, (ax1,ax2) = plt.subplots(2,1,figsize=(12,8))\n",
    "bins = 500\n",
    "\n",
    "\n",
    "ax1.hist(traditional_cost, bins=bins)\n",
    "ax1.axvline(BS_price,color='k',linestyle=\"--\",linewidth=2)\n",
    "ax2.hist(my_cost, bins=bins)\n",
    "ax2.axvline(BS_price,color='k',linestyle=\"--\",linewidth=2)\n",
    "# ax2.set_xscale(\"log\")\n",
    "# ax2.xaxis.set_major_formatter(ScalarFormatter())\n",
    "# ax2.xaxis.set_ticks([0.0,0.05,0.1,0.5,1.0,2,5,10])\"\n",
    "# ax2.set_xticks([0.0,0.05,0.1,0.5,1.0,2.0]) \n",
    "# ax2.set_xticklabels([0.0,0.05,0.1,0.5,1.0,2.0], fontsize=12)\n"
   ]
  },
  {
   "cell_type": "code",
   "execution_count": null,
   "id": "7ba6d24c",
   "metadata": {},
   "outputs": [],
   "source": []
  }
 ],
 "metadata": {
  "kernelspec": {
   "display_name": "Python 3 (ipykernel)",
   "language": "python",
   "name": "python3"
  },
  "language_info": {
   "codemirror_mode": {
    "name": "ipython",
    "version": 3
   },
   "file_extension": ".py",
   "mimetype": "text/x-python",
   "name": "python",
   "nbconvert_exporter": "python",
   "pygments_lexer": "ipython3",
   "version": "3.8.10"
  }
 },
 "nbformat": 4,
 "nbformat_minor": 5
}
